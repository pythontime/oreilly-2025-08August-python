{
 "cells": [
  {
   "cell_type": "markdown",
   "metadata": {},
   "source": [
    "# Agenda, week 4: Functions\n",
    "\n",
    "- Nouns vs. verbs in programming\n",
    "- Writing simple functions\n",
    "- Arguments and parameters\n",
    "- Return values, including complex return values\n",
    "- Default argument values\n",
    "- Local vs. global variables"
   ]
  },
  {
   "cell_type": "markdown",
   "metadata": {},
   "source": [
    "# What are functions?\n",
    "\n",
    "The data in a programming language, such as Python, are our nouns. These are the objects that we deal with on a day to day basis.\n",
    "\n",
    "If we want to do something with our values, then we have to use a verb. In Python, so far, we've seen functions to be our verbs:\n",
    "\n",
    "- `print`\n",
    "- `input`\n",
    "- `len`\n",
    "- `type`\n",
    "- `sum`\n",
    "\n",
    "We also have a bunch of methods, functions that are bolted onto a particular data type.\n",
    "\n",
    "If we want, we can write all of our code with just the functions that come with Python.\n",
    "\n",
    "The thing is, if we don't write our own functions, we have a number of problems. The first problem is that we violate the \"DRY\" rule -- don't repeat yourself!\n",
    "\n",
    "We've seen the DRY rule once before:\n",
    "\n",
    "- If we have the same code repeated on several adjacent lines, then we can replace those lines with a loop.\n",
    "- If we have the same code repeated in different places in our program, then we can replace all of those identical blocks of code with a function call -- we define the function once, and then invoke it whenever we want to use that functionality.\n"
   ]
  },
  {
   "cell_type": "markdown",
   "metadata": {},
   "source": [
    "# But there is another reason to write functions: Abstraction\n",
    "\n",
    "Abstraction is the idea that we can gather up a lot of little things together and put them under one roof, and then ignore all of the details, and talk about it as one thing.\n",
    "\n",
    "Abstraction allows us to concentrate on the big ideas, rather than all of the little processes and details that are happening. Abstraction also allows us to communicate with other people at a higher level.\n",
    "\n",
    "When we define a function, we aren't creating new functionality. But we are allowing ourselves to think at a higher level, to ignore the low-level details, and then provide the foundation for even higher-level functionality."
   ]
  },
  {
   "cell_type": "markdown",
   "metadata": {},
   "source": [
    "# In Python, functions are nouns, not just verbs\n",
    "\n",
    "Every programming language has functions (verbs) and data (nouns).\n",
    "\n",
    "But in Python, like only a few languages, the verbs are also nouns! They are what we call \"function objects,\" and they represent a function, and have all sorts of contents to keep track of the function and what it does.\n",
    "\n",
    "I'm telling you this because there is a big difference between naming a function and invoking a function in Python. If I say\n",
    "\n",
    "    myfunc\n",
    "\n",
    "then that does not invoke the function. Nothing actually happens! Because we've just referred to a function. If we really want to execute it, then we need to use `()`:\n",
    "\n",
    "    myfunc()\n",
    "\n",
    "In this second example, we actually execute the function's code, and get its results."
   ]
  },
  {
   "cell_type": "markdown",
   "metadata": {},
   "source": [
    "# Let's define a function!\n",
    "\n",
    "To define a function in Python:\n",
    "\n",
    "1. We use the reserved word `def` to define a function.\n",
    "2. We name the function -- the rules for function names are identical to those for variable names.\n",
    "3. We put `()` after the function name (for now)\n",
    "4. At the end of the line, we put `:`\n",
    "5. The following line starts an indented block, known as the \"function body.\" This is what we want to happen each time we invoke the function. These are the instructions that Python should follow when we run the function. What code can you put inside of a function body? *ANYTHING AT ALL!* You can use `print`, `input`, `len`, or any of the methods that we've discussed so far, as well as `for` loops, `while` loops, and the like."
   ]
  },
  {
   "cell_type": "code",
   "execution_count": 1,
   "metadata": {},
   "outputs": [],
   "source": [
    "# here's a simple function\n",
    "\n",
    "def hello():\n",
    "    print('Hello!')"
   ]
  },
  {
   "cell_type": "markdown",
   "metadata": {},
   "source": [
    "When I define `hello`, we don't see anything printed on the screen! That's because I have defined the function. I haven't yet asked Python to invoke the function. To do that, I need to say `hello()`, putting the `()` after the function name."
   ]
  },
  {
   "cell_type": "code",
   "execution_count": 2,
   "metadata": {},
   "outputs": [
    {
     "name": "stdout",
     "output_type": "stream",
     "text": [
      "Hello!\n"
     ]
    }
   ],
   "source": [
    "hello()"
   ]
  },
  {
   "cell_type": "markdown",
   "metadata": {},
   "source": [
    "In many programming languages, you have separate \"namespaces\" for variables and functions. You can have, in those languages, a variable named `x` and a function named `x` at the same time.\n",
    "\n",
    "**THIS IS NOT TRUE IN PYTHON!**\n",
    "\n",
    "When we define a function, we're assigning to a variable. Which means that you cannot have both data and a function assigned to the same name. The latter one to be defined is the one that gets the value."
   ]
  },
  {
   "cell_type": "code",
   "execution_count": null,
   "metadata": {},
   "outputs": [],
   "source": []
  }
 ],
 "metadata": {
  "kernelspec": {
   "display_name": "Python 3 (ipykernel)",
   "language": "python",
   "name": "python3"
  },
  "language_info": {
   "codemirror_mode": {
    "name": "ipython",
    "version": 3
   },
   "file_extension": ".py",
   "mimetype": "text/x-python",
   "name": "python",
   "nbconvert_exporter": "python",
   "pygments_lexer": "ipython3",
   "version": "3.13.5"
  },
  "widgets": {
   "application/vnd.jupyter.widget-state+json": {
    "state": {},
    "version_major": 2,
    "version_minor": 0
   }
  }
 },
 "nbformat": 4,
 "nbformat_minor": 4
}
