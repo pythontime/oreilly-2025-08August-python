{
 "cells": [
  {
   "cell_type": "markdown",
   "metadata": {},
   "source": [
    "# Agenda, week 4: Functions\n",
    "\n",
    "- Nouns vs. verbs in programming\n",
    "- Writing simple functions\n",
    "- Arguments and parameters\n",
    "- Return values, including complex return values\n",
    "- Default argument values\n",
    "- Local vs. global variables"
   ]
  },
  {
   "cell_type": "markdown",
   "metadata": {},
   "source": [
    "# What are functions?\n",
    "\n",
    "The data in a programming language, such as Python, are our nouns. These are the objects that we deal with on a day to day basis.\n",
    "\n",
    "If we want to do something with our values, then we have to use a verb. In Python, so far, we've seen functions to be our verbs:\n",
    "\n",
    "- `print`\n",
    "- `input`\n",
    "- `len`\n",
    "- `type`\n",
    "- `sum`\n",
    "\n",
    "We also have a bunch of methods, functions that are bolted onto a particular data type.\n",
    "\n",
    "If we want, we can write all of our code with just the functions that come with Python.\n",
    "\n",
    "The thing is, if we don't write our own functions, we have a number of problems. The first problem is that we violate the \"DRY\" rule -- don't repeat yourself!\n",
    "\n",
    "We've seen the DRY rule once before:\n",
    "\n",
    "- If we have the same code repeated on several adjacent lines, then we can replace those lines with a loop.\n",
    "- If we have the same code repeated in different places in our program, then we can replace all of those identical blocks of code with a function call -- we define the function once, and then invoke it whenever we want to use that functionality.\n"
   ]
  },
  {
   "cell_type": "markdown",
   "metadata": {},
   "source": [
    "# But there is another reason to write functions: Abstraction\n",
    "\n",
    "Abstraction is the idea that we can gather up a lot of little things together and put them under one roof, and then ignore all of the details, and talk about it as one thing.\n",
    "\n",
    "Abstraction allows us to concentrate on the big ideas, rather than all of the little processes and details that are happening. Abstraction also allows us to communicate with other people at a higher level.\n",
    "\n",
    "When we define a function, we aren't creating new functionality. But we are allowing ourselves to think at a higher level, to ignore the low-level details, and then provide the foundation for even higher-level functionality."
   ]
  },
  {
   "cell_type": "markdown",
   "metadata": {},
   "source": [
    "# In Python, functions are nouns, not just verbs\n",
    "\n",
    "Every programming language has functions (verbs) and data (nouns).\n",
    "\n",
    "But in Python, like only a few languages, the verbs are also nouns! They are what we call \"function objects,\" and they represent a function, and have all sorts of contents to keep track of the function and what it does.\n",
    "\n",
    "I'm telling you this because there is a big difference between naming a function and invoking a function in Python. If I say\n",
    "\n",
    "    myfunc\n",
    "\n",
    "then that does not invoke the function. Nothing actually happens! Because we've just referred to a function. If we really want to execute it, then we need to use `()`:\n",
    "\n",
    "    myfunc()\n",
    "\n",
    "In this second example, we actually execute the function's code, and get its results."
   ]
  },
  {
   "cell_type": "markdown",
   "metadata": {},
   "source": [
    "# Let's define a function!\n",
    "\n",
    "To define a function in Python:\n",
    "\n",
    "1. We use the reserved word `def` to define a function.\n",
    "2. We name the function -- the rules for function names are identical to those for variable names.\n",
    "3. We put `()` after the function name (for now)\n",
    "4. At the end of the line, we put `:`\n",
    "5. The following line starts an indented block, known as the \"function body.\" This is what we want to happen each time we invoke the function. These are the instructions that Python should follow when we run the function. What code can you put inside of a function body? *ANYTHING AT ALL!* You can use `print`, `input`, `len`, or any of the methods that we've discussed so far, as well as `for` loops, `while` loops, and the like."
   ]
  },
  {
   "cell_type": "code",
   "execution_count": 1,
   "metadata": {},
   "outputs": [],
   "source": [
    "# here's a simple function\n",
    "\n",
    "def hello():\n",
    "    print('Hello!')"
   ]
  },
  {
   "cell_type": "markdown",
   "metadata": {},
   "source": [
    "When I define `hello`, we don't see anything printed on the screen! That's because I have defined the function. I haven't yet asked Python to invoke the function. To do that, I need to say `hello()`, putting the `()` after the function name."
   ]
  },
  {
   "cell_type": "code",
   "execution_count": 2,
   "metadata": {},
   "outputs": [
    {
     "name": "stdout",
     "output_type": "stream",
     "text": [
      "Hello!\n"
     ]
    }
   ],
   "source": [
    "hello()"
   ]
  },
  {
   "cell_type": "markdown",
   "metadata": {},
   "source": [
    "In many programming languages, you have separate \"namespaces\" for variables and functions. You can have, in those languages, a variable named `x` and a function named `x` at the same time.\n",
    "\n",
    "**THIS IS NOT TRUE IN PYTHON!**\n",
    "\n",
    "When we define a function, we're assigning to a variable. Which means that you cannot have both data and a function assigned to the same name. The latter one to be defined is the one that gets the value."
   ]
  },
  {
   "cell_type": "code",
   "execution_count": 3,
   "metadata": {},
   "outputs": [],
   "source": [
    "# what kind of code can I put in my function?\n",
    "\n",
    "def hello():\n",
    "    name = input('Enter your name: ').strip()\n",
    "    print(f'Hello, {name}!')"
   ]
  },
  {
   "cell_type": "code",
   "execution_count": 4,
   "metadata": {},
   "outputs": [
    {
     "name": "stdin",
     "output_type": "stream",
     "text": [
      "Enter your name:  Reuven\n"
     ]
    },
    {
     "name": "stdout",
     "output_type": "stream",
     "text": [
      "Hello, Reuven!\n"
     ]
    }
   ],
   "source": [
    "hello()"
   ]
  },
  {
   "cell_type": "markdown",
   "metadata": {},
   "source": [
    "# Exercise: Calculator\n",
    "\n",
    "1. Define a function, `calc`, that when invoked asks three questions:\n",
    "    - What is the first number?\n",
    "    - What is the operator?\n",
    "    - What is the second number?\n",
    "2. Assign the answer from each question to a variable.\n",
    "3. If the numbers can be turned into integers, and if the operator is known (say, just `+` and `*`), then get the result of the calculation and print it, along with the numbers and operator.\n",
    "4. If the number inputs aren't really digits, then scold the user.\n",
    "5. If the operator input isn't known, then print the input equation but then say `(no result)` for the result.\n",
    "\n",
    "Example:\n",
    "\n",
    "    calc()\n",
    "    Enter first number: 10\n",
    "    Enter operator: +\n",
    "    Enter second number: 15\n",
    "    10 + 15 = 25\n",
    "\n",
    "    calc()\n",
    "    Enter first number: 10\n",
    "    Enter operator: +\n",
    "    Enter second number: hello\n",
    "    hello is not numeric\n",
    "\n",
    "    calc()\n",
    "    Enter first number: 10\n",
    "    Enter operator: *\n",
    "    Enter second number: 15\n",
    "    10 * 15 = (no result)\n"
   ]
  },
  {
   "cell_type": "code",
   "execution_count": 5,
   "metadata": {},
   "outputs": [],
   "source": [
    "def calc():\n",
    "    first = input('Enter first number: ').strip()\n",
    "    op = input('Enter operator: ').strip()\n",
    "    second = input('Enter second number: ').strip()\n",
    "\n",
    "    first = int(first)   # get an integer from first\n",
    "    second = int(second) # also from second\n",
    "\n",
    "    if op == '+':\n",
    "        result = first + second\n",
    "    elif op == '*':\n",
    "        result = first * second\n",
    "    else:\n",
    "        result = '(no result)'\n",
    "\n",
    "    print(f'{first} {op} {second} = {result}')"
   ]
  },
  {
   "cell_type": "code",
   "execution_count": 9,
   "metadata": {},
   "outputs": [
    {
     "name": "stdin",
     "output_type": "stream",
     "text": [
      "Enter first number:  hello\n",
      "Enter operator:  and\n",
      "Enter second number:  goodbye\n"
     ]
    },
    {
     "ename": "ValueError",
     "evalue": "invalid literal for int() with base 10: 'hello'",
     "output_type": "error",
     "traceback": [
      "\u001b[31m---------------------------------------------------------------------------\u001b[39m",
      "\u001b[31mValueError\u001b[39m                                Traceback (most recent call last)",
      "\u001b[36mCell\u001b[39m\u001b[36m \u001b[39m\u001b[32mIn[9]\u001b[39m\u001b[32m, line 1\u001b[39m\n\u001b[32m----> \u001b[39m\u001b[32m1\u001b[39m \u001b[43mcalc\u001b[49m\u001b[43m(\u001b[49m\u001b[43m)\u001b[49m\n",
      "\u001b[36mCell\u001b[39m\u001b[36m \u001b[39m\u001b[32mIn[5]\u001b[39m\u001b[32m, line 6\u001b[39m, in \u001b[36mcalc\u001b[39m\u001b[34m()\u001b[39m\n\u001b[32m      3\u001b[39m op = \u001b[38;5;28minput\u001b[39m(\u001b[33m'\u001b[39m\u001b[33mEnter operator: \u001b[39m\u001b[33m'\u001b[39m).strip()\n\u001b[32m      4\u001b[39m second = \u001b[38;5;28minput\u001b[39m(\u001b[33m'\u001b[39m\u001b[33mEnter second number: \u001b[39m\u001b[33m'\u001b[39m).strip()\n\u001b[32m----> \u001b[39m\u001b[32m6\u001b[39m first = \u001b[38;5;28;43mint\u001b[39;49m\u001b[43m(\u001b[49m\u001b[43mfirst\u001b[49m\u001b[43m)\u001b[49m   \u001b[38;5;66;03m# get an integer from first\u001b[39;00m\n\u001b[32m      7\u001b[39m second = \u001b[38;5;28mint\u001b[39m(second) \u001b[38;5;66;03m# also from second\u001b[39;00m\n\u001b[32m      9\u001b[39m \u001b[38;5;28;01mif\u001b[39;00m op == \u001b[33m'\u001b[39m\u001b[33m+\u001b[39m\u001b[33m'\u001b[39m:\n",
      "\u001b[31mValueError\u001b[39m: invalid literal for int() with base 10: 'hello'"
     ]
    }
   ],
   "source": [
    "calc()"
   ]
  },
  {
   "cell_type": "code",
   "execution_count": 10,
   "metadata": {},
   "outputs": [],
   "source": [
    "def calc():\n",
    "    first = input('Enter first number: ').strip()\n",
    "    op = input('Enter operator: ').strip()\n",
    "    second = input('Enter second number: ').strip()\n",
    "\n",
    "    if first.isdigit() and second.isdigit():\n",
    "        first = int(first)   # get an integer from first\n",
    "        second = int(second) # also from second\n",
    "    \n",
    "        if op == '+':\n",
    "            result = first + second\n",
    "        elif op == '*':\n",
    "            result = first * second\n",
    "        else:\n",
    "            result = '(no result)'\n",
    "    \n",
    "        print(f'{first} {op} {second} = {result}')\n",
    "\n",
    "    else:\n",
    "        print(f'Either {first} or {second} is not numeric; try again!')        "
   ]
  },
  {
   "cell_type": "code",
   "execution_count": 11,
   "metadata": {},
   "outputs": [
    {
     "name": "stdin",
     "output_type": "stream",
     "text": [
      "Enter first number:  hello\n",
      "Enter operator:  +\n",
      "Enter second number:  10\n"
     ]
    },
    {
     "name": "stdout",
     "output_type": "stream",
     "text": [
      "Either hello or 10 is not numeric; try again!\n"
     ]
    }
   ],
   "source": [
    "calc()"
   ]
  },
  {
   "cell_type": "code",
   "execution_count": 12,
   "metadata": {},
   "outputs": [],
   "source": [
    "def calc():\n",
    "    first = input('Enter first number: ').strip()\n",
    "    op = input('Enter operator: ').strip()\n",
    "    second = input('Enter second number: ').strip()\n",
    "\n",
    "    if first.isdigit() and second.isdigit():\n",
    "        first = int(first)   # get an integer from first\n",
    "        second = int(second) # also from second\n",
    "    \n",
    "        if op == '+':\n",
    "            result = first + second\n",
    "        elif op == '*':\n",
    "            result = first * second\n",
    "        else:\n",
    "            result = '(no result)'\n",
    "    \n",
    "        print(f'{first} {op} {second} = {result}')\n",
    "\n",
    "    # if we get to the \"else\" clause, one or both of first/second isn't numeric\n",
    "    else:\n",
    "        if not first.isdigit():\n",
    "            print(f'{first} is not numeric')\n",
    "        if not second.isdigit():\n",
    "            print(f'{second} is not numeric')\n"
   ]
  },
  {
   "cell_type": "code",
   "execution_count": 15,
   "metadata": {},
   "outputs": [
    {
     "name": "stdin",
     "output_type": "stream",
     "text": [
      "Enter first number:  10\n",
      "Enter operator:  +\n",
      "Enter second number:  20\n"
     ]
    },
    {
     "name": "stdout",
     "output_type": "stream",
     "text": [
      "10 + 20 = 30\n"
     ]
    }
   ],
   "source": [
    "calc()"
   ]
  },
  {
   "cell_type": "markdown",
   "metadata": {},
   "source": [
    "# This is really annoying!\n",
    "\n",
    "The good news is that our function works.\n",
    "\n",
    "The bad news is that every time we want to calculate something, we need to be sitting in front of the keyboard, and type answers to the questions that the function poses.\n",
    "\n",
    "We would much prefer to invoke the function, `calc`, with some arguments -- the values that we want to pass, and then we can see the results.\n",
    "\n",
    "Why is this better?\n",
    "\n",
    "- We don't need to type answers, so the invocation can be done without human intervention\n",
    "- This means that we can also automate the testing of our function\n",
    "- By letting people pass values to our function via arguments, we gain some abstraction"
   ]
  },
  {
   "cell_type": "markdown",
   "metadata": {},
   "source": [
    "# Arguments and parameters\n",
    "\n",
    "Arguments are the values that we pass to a function when we invoke it. Those arguments are assigned to special variables inside of the function, known as parameters.\n",
    "\n",
    "Most programmers confuse these two terms. But they mean distinct things:\n",
    "\n",
    "- Arguments are values that we pass when we invoke a function\n",
    "- Parameters are variables to which arguments are assigned. They are named when we define the function.\n",
    "\n",
    "In Python, the number of arguments and the number of parameters must match.\n",
    "\n",
    "When we define our function, we're now going to include one or more parameter names inside of the `()` on the first line, just after the function's name. These parameters are variables, and they are separated by commas. They will be available inside of the function body."
   ]
  },
  {
   "cell_type": "code",
   "execution_count": 16,
   "metadata": {},
   "outputs": [],
   "source": [
    "def hello(name):\n",
    "    print(f'Hello, {name}!')"
   ]
  },
  {
   "cell_type": "code",
   "execution_count": 17,
   "metadata": {},
   "outputs": [
    {
     "name": "stdout",
     "output_type": "stream",
     "text": [
      "Hello, world!\n"
     ]
    }
   ],
   "source": [
    "hello('world')"
   ]
  },
  {
   "cell_type": "code",
   "execution_count": 18,
   "metadata": {},
   "outputs": [
    {
     "name": "stdout",
     "output_type": "stream",
     "text": [
      "Hello, Reuven!\n"
     ]
    }
   ],
   "source": [
    "hello('Reuven')"
   ]
  },
  {
   "cell_type": "code",
   "execution_count": 19,
   "metadata": {},
   "outputs": [
    {
     "ename": "TypeError",
     "evalue": "hello() missing 1 required positional argument: 'name'",
     "output_type": "error",
     "traceback": [
      "\u001b[31m---------------------------------------------------------------------------\u001b[39m",
      "\u001b[31mTypeError\u001b[39m                                 Traceback (most recent call last)",
      "\u001b[36mCell\u001b[39m\u001b[36m \u001b[39m\u001b[32mIn[19]\u001b[39m\u001b[32m, line 3\u001b[39m\n\u001b[32m      1\u001b[39m \u001b[38;5;66;03m# what about that earlier version of hello? Can we still invoke it without any arguments?\u001b[39;00m\n\u001b[32m----> \u001b[39m\u001b[32m3\u001b[39m \u001b[43mhello\u001b[49m\u001b[43m(\u001b[49m\u001b[43m)\u001b[49m\n",
      "\u001b[31mTypeError\u001b[39m: hello() missing 1 required positional argument: 'name'"
     ]
    }
   ],
   "source": [
    "# what about that earlier version of hello? Can we still invoke it without any arguments?\n",
    "\n",
    "hello()"
   ]
  },
  {
   "cell_type": "markdown",
   "metadata": {},
   "source": [
    "In many languages, you can define a function many times, each with its own \"function signature\" -- the number, names, and types of parameters. When you invoke a function that such languages, the version of the function that matches your arguments is invoked.\n",
    "\n",
    "This is **NOT** the way things work in Python!\n",
    "\n",
    "We have one, and only one, version of a function at any given time, the most recently defined one. When we invoke our function, its signature has to match the number of argumentse we pass. There is no way to have more than one version of a function at at time."
   ]
  },
  {
   "cell_type": "code",
   "execution_count": null,
   "metadata": {},
   "outputs": [],
   "source": [
    " "
   ]
  }
 ],
 "metadata": {
  "kernelspec": {
   "display_name": "Python 3 (ipykernel)",
   "language": "python",
   "name": "python3"
  },
  "language_info": {
   "codemirror_mode": {
    "name": "ipython",
    "version": 3
   },
   "file_extension": ".py",
   "mimetype": "text/x-python",
   "name": "python",
   "nbconvert_exporter": "python",
   "pygments_lexer": "ipython3",
   "version": "3.13.5"
  },
  "widgets": {
   "application/vnd.jupyter.widget-state+json": {
    "state": {},
    "version_major": 2,
    "version_minor": 0
   }
  }
 },
 "nbformat": 4,
 "nbformat_minor": 4
}
