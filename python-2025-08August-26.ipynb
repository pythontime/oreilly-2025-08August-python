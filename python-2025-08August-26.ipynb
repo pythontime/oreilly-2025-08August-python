{
 "cells": [
  {
   "cell_type": "markdown",
   "metadata": {},
   "source": [
    "# Agenda, week 4: Functions\n",
    "\n",
    "- Nouns vs. verbs in programming\n",
    "- Writing simple functions\n",
    "- Arguments and parameters\n",
    "- Return values, including complex return values\n",
    "- Default argument values\n",
    "- Local vs. global variables"
   ]
  },
  {
   "cell_type": "markdown",
   "metadata": {},
   "source": [
    "# What are functions?\n",
    "\n",
    "The data in a programming language, such as Python, are our nouns. These are the objects that we deal with on a day to day basis.\n",
    "\n",
    "If we want to do something with our values, then we have to use a verb. In Python, so far, we've seen functions to be our verbs:\n",
    "\n",
    "- `print`\n",
    "- `input`\n",
    "- `len`\n",
    "- `type`\n",
    "- `sum`\n",
    "\n",
    "We also have a bunch of methods, functions that are bolted onto a particular data type.\n",
    "\n",
    "If we want, we can write all of our code with just the functions that come with Python.\n",
    "\n",
    "The thing is, if we don't write our own functions, we have a number of problems. The first problem is that we violate the \"DRY\" rule -- don't repeat yourself!\n",
    "\n",
    "We've seen the DRY rule once before:\n",
    "\n",
    "- If we have the same code repeated on several adjacent lines, then we can replace those lines with a loop.\n",
    "- If we have the same code repeated in different places in our program, then we can replace all of those identical blocks of code with a function call -- we define the function once, and then invoke it whenever we want to use that functionality.\n"
   ]
  },
  {
   "cell_type": "markdown",
   "metadata": {},
   "source": [
    "# But there is another reason to write functions: Abstraction\n",
    "\n",
    "Abstraction is the idea that we can gather up a lot of little things together and put them under one roof, and then ignore all of the details, and talk about it as one thing.\n",
    "\n",
    "Abstraction allows us to concentrate on the big ideas, rather than all of the little processes and details that are happening. Abstraction also allows us to communicate with other people at a higher level.\n",
    "\n",
    "When we define a function, we aren't creating new functionality. But we are allowing ourselves to think at a higher level, to ignore the low-level details, and then provide the foundation for even higher-level functionality."
   ]
  },
  {
   "cell_type": "code",
   "execution_count": null,
   "metadata": {},
   "outputs": [],
   "source": []
  }
 ],
 "metadata": {
  "kernelspec": {
   "display_name": "Python 3 (ipykernel)",
   "language": "python",
   "name": "python3"
  },
  "language_info": {
   "codemirror_mode": {
    "name": "ipython",
    "version": 3
   },
   "file_extension": ".py",
   "mimetype": "text/x-python",
   "name": "python",
   "nbconvert_exporter": "python",
   "pygments_lexer": "ipython3",
   "version": "3.13.5"
  },
  "widgets": {
   "application/vnd.jupyter.widget-state+json": {
    "state": {},
    "version_major": 2,
    "version_minor": 0
   }
  }
 },
 "nbformat": 4,
 "nbformat_minor": 4
}
