{
 "cells": [
  {
   "cell_type": "markdown",
   "metadata": {},
   "source": [
    "# Agenda, week 4: Functions\n",
    "\n",
    "- Nouns vs. verbs in programming\n",
    "- Writing simple functions\n",
    "- Arguments and parameters\n",
    "- Return values, including complex return values\n",
    "- Default argument values\n",
    "- Local vs. global variables"
   ]
  },
  {
   "cell_type": "markdown",
   "metadata": {},
   "source": [
    "# What are functions?\n",
    "\n",
    "The data in a programming language, such as Python, are our nouns. These are the objects that we deal with on a day to day basis.\n",
    "\n",
    "If we want to do something with our values, then we have to use a verb. In Python, so far, we've seen functions to be our verbs:\n",
    "\n",
    "- `print`\n",
    "- `input`\n",
    "- `len`\n",
    "- `type`\n",
    "- `sum`\n",
    "\n",
    "We also have a bunch of methods, functions that are bolted onto a particular data type.\n",
    "\n",
    "If we want, we can write all of our code with just the functions that come with Python.\n",
    "\n",
    "The thing is, if we don't write our own functions, we have a number of problems. The first problem is that we violate the \"DRY\" rule -- don't repeat yourself!\n",
    "\n",
    "We've seen the DRY rule once before:\n",
    "\n",
    "- If we have the same code repeated on several adjacent lines, then we can replace those lines with a loop.\n",
    "- If we have the same code repeated in different places in our program, then we can replace all of those identical blocks of code with a function call -- we define the function once, and then invoke it whenever we want to use that functionality.\n"
   ]
  },
  {
   "cell_type": "markdown",
   "metadata": {},
   "source": [
    "# But there is another reason to write functions: Abstraction\n",
    "\n",
    "Abstraction is the idea that we can gather up a lot of little things together and put them under one roof, and then ignore all of the details, and talk about it as one thing.\n",
    "\n",
    "Abstraction allows us to concentrate on the big ideas, rather than all of the little processes and details that are happening. Abstraction also allows us to communicate with other people at a higher level.\n",
    "\n",
    "When we define a function, we aren't creating new functionality. But we are allowing ourselves to think at a higher level, to ignore the low-level details, and then provide the foundation for even higher-level functionality."
   ]
  },
  {
   "cell_type": "markdown",
   "metadata": {},
   "source": [
    "# In Python, functions are nouns, not just verbs\n",
    "\n",
    "Every programming language has functions (verbs) and data (nouns).\n",
    "\n",
    "But in Python, like only a few languages, the verbs are also nouns! They are what we call \"function objects,\" and they represent a function, and have all sorts of contents to keep track of the function and what it does.\n",
    "\n",
    "I'm telling you this because there is a big difference between naming a function and invoking a function in Python. If I say\n",
    "\n",
    "    myfunc\n",
    "\n",
    "then that does not invoke the function. Nothing actually happens! Because we've just referred to a function. If we really want to execute it, then we need to use `()`:\n",
    "\n",
    "    myfunc()\n",
    "\n",
    "In this second example, we actually execute the function's code, and get its results."
   ]
  },
  {
   "cell_type": "markdown",
   "metadata": {},
   "source": [
    "# Let's define a function!\n",
    "\n",
    "To define a function in Python:\n",
    "\n",
    "1. We use the reserved word `def` to define a function.\n",
    "2. We name the function -- the rules for function names are identical to those for variable names.\n",
    "3. We put `()` after the function name (for now)\n",
    "4. At the end of the line, we put `:`\n",
    "5. The following line starts an indented block, known as the \"function body.\" This is what we want to happen each time we invoke the function. These are the instructions that Python should follow when we run the function. What code can you put inside of a function body? *ANYTHING AT ALL!* You can use `print`, `input`, `len`, or any of the methods that we've discussed so far, as well as `for` loops, `while` loops, and the like."
   ]
  },
  {
   "cell_type": "code",
   "execution_count": 1,
   "metadata": {},
   "outputs": [],
   "source": [
    "# here's a simple function\n",
    "\n",
    "def hello():\n",
    "    print('Hello!')"
   ]
  },
  {
   "cell_type": "markdown",
   "metadata": {},
   "source": [
    "When I define `hello`, we don't see anything printed on the screen! That's because I have defined the function. I haven't yet asked Python to invoke the function. To do that, I need to say `hello()`, putting the `()` after the function name."
   ]
  },
  {
   "cell_type": "code",
   "execution_count": 2,
   "metadata": {},
   "outputs": [
    {
     "name": "stdout",
     "output_type": "stream",
     "text": [
      "Hello!\n"
     ]
    }
   ],
   "source": [
    "hello()"
   ]
  },
  {
   "cell_type": "markdown",
   "metadata": {},
   "source": [
    "In many programming languages, you have separate \"namespaces\" for variables and functions. You can have, in those languages, a variable named `x` and a function named `x` at the same time.\n",
    "\n",
    "**THIS IS NOT TRUE IN PYTHON!**\n",
    "\n",
    "When we define a function, we're assigning to a variable. Which means that you cannot have both data and a function assigned to the same name. The latter one to be defined is the one that gets the value."
   ]
  },
  {
   "cell_type": "code",
   "execution_count": 3,
   "metadata": {},
   "outputs": [],
   "source": [
    "# what kind of code can I put in my function?\n",
    "\n",
    "def hello():\n",
    "    name = input('Enter your name: ').strip()\n",
    "    print(f'Hello, {name}!')"
   ]
  },
  {
   "cell_type": "code",
   "execution_count": 4,
   "metadata": {},
   "outputs": [
    {
     "name": "stdin",
     "output_type": "stream",
     "text": [
      "Enter your name:  Reuven\n"
     ]
    },
    {
     "name": "stdout",
     "output_type": "stream",
     "text": [
      "Hello, Reuven!\n"
     ]
    }
   ],
   "source": [
    "hello()"
   ]
  },
  {
   "cell_type": "markdown",
   "metadata": {},
   "source": [
    "# Exercise: Calculator\n",
    "\n",
    "1. Define a function, `calc`, that when invoked asks three questions:\n",
    "    - What is the first number?\n",
    "    - What is the operator?\n",
    "    - What is the second number?\n",
    "2. Assign the answer from each question to a variable.\n",
    "3. If the numbers can be turned into integers, and if the operator is known (say, just `+` and `*`), then get the result of the calculation and print it, along with the numbers and operator.\n",
    "4. If the number inputs aren't really digits, then scold the user.\n",
    "5. If the operator input isn't known, then print the input equation but then say `(no result)` for the result.\n",
    "\n",
    "Example:\n",
    "\n",
    "    calc()\n",
    "    Enter first number: 10\n",
    "    Enter operator: +\n",
    "    Enter second number: 15\n",
    "    10 + 15 = 25\n",
    "\n",
    "    calc()\n",
    "    Enter first number: 10\n",
    "    Enter operator: +\n",
    "    Enter second number: hello\n",
    "    hello is not numeric\n",
    "\n",
    "    calc()\n",
    "    Enter first number: 10\n",
    "    Enter operator: *\n",
    "    Enter second number: 15\n",
    "    10 * 15 = (no result)\n"
   ]
  },
  {
   "cell_type": "code",
   "execution_count": 5,
   "metadata": {},
   "outputs": [],
   "source": [
    "def calc():\n",
    "    first = input('Enter first number: ').strip()\n",
    "    op = input('Enter operator: ').strip()\n",
    "    second = input('Enter second number: ').strip()\n",
    "\n",
    "    first = int(first)   # get an integer from first\n",
    "    second = int(second) # also from second\n",
    "\n",
    "    if op == '+':\n",
    "        result = first + second\n",
    "    elif op == '*':\n",
    "        result = first * second\n",
    "    else:\n",
    "        result = '(no result)'\n",
    "\n",
    "    print(f'{first} {op} {second} = {result}')"
   ]
  },
  {
   "cell_type": "code",
   "execution_count": 9,
   "metadata": {},
   "outputs": [
    {
     "name": "stdin",
     "output_type": "stream",
     "text": [
      "Enter first number:  hello\n",
      "Enter operator:  and\n",
      "Enter second number:  goodbye\n"
     ]
    },
    {
     "ename": "ValueError",
     "evalue": "invalid literal for int() with base 10: 'hello'",
     "output_type": "error",
     "traceback": [
      "\u001b[31m---------------------------------------------------------------------------\u001b[39m",
      "\u001b[31mValueError\u001b[39m                                Traceback (most recent call last)",
      "\u001b[36mCell\u001b[39m\u001b[36m \u001b[39m\u001b[32mIn[9]\u001b[39m\u001b[32m, line 1\u001b[39m\n\u001b[32m----> \u001b[39m\u001b[32m1\u001b[39m \u001b[43mcalc\u001b[49m\u001b[43m(\u001b[49m\u001b[43m)\u001b[49m\n",
      "\u001b[36mCell\u001b[39m\u001b[36m \u001b[39m\u001b[32mIn[5]\u001b[39m\u001b[32m, line 6\u001b[39m, in \u001b[36mcalc\u001b[39m\u001b[34m()\u001b[39m\n\u001b[32m      3\u001b[39m op = \u001b[38;5;28minput\u001b[39m(\u001b[33m'\u001b[39m\u001b[33mEnter operator: \u001b[39m\u001b[33m'\u001b[39m).strip()\n\u001b[32m      4\u001b[39m second = \u001b[38;5;28minput\u001b[39m(\u001b[33m'\u001b[39m\u001b[33mEnter second number: \u001b[39m\u001b[33m'\u001b[39m).strip()\n\u001b[32m----> \u001b[39m\u001b[32m6\u001b[39m first = \u001b[38;5;28;43mint\u001b[39;49m\u001b[43m(\u001b[49m\u001b[43mfirst\u001b[49m\u001b[43m)\u001b[49m   \u001b[38;5;66;03m# get an integer from first\u001b[39;00m\n\u001b[32m      7\u001b[39m second = \u001b[38;5;28mint\u001b[39m(second) \u001b[38;5;66;03m# also from second\u001b[39;00m\n\u001b[32m      9\u001b[39m \u001b[38;5;28;01mif\u001b[39;00m op == \u001b[33m'\u001b[39m\u001b[33m+\u001b[39m\u001b[33m'\u001b[39m:\n",
      "\u001b[31mValueError\u001b[39m: invalid literal for int() with base 10: 'hello'"
     ]
    }
   ],
   "source": [
    "calc()"
   ]
  },
  {
   "cell_type": "code",
   "execution_count": 10,
   "metadata": {},
   "outputs": [],
   "source": [
    "def calc():\n",
    "    first = input('Enter first number: ').strip()\n",
    "    op = input('Enter operator: ').strip()\n",
    "    second = input('Enter second number: ').strip()\n",
    "\n",
    "    if first.isdigit() and second.isdigit():\n",
    "        first = int(first)   # get an integer from first\n",
    "        second = int(second) # also from second\n",
    "    \n",
    "        if op == '+':\n",
    "            result = first + second\n",
    "        elif op == '*':\n",
    "            result = first * second\n",
    "        else:\n",
    "            result = '(no result)'\n",
    "    \n",
    "        print(f'{first} {op} {second} = {result}')\n",
    "\n",
    "    else:\n",
    "        print(f'Either {first} or {second} is not numeric; try again!')        "
   ]
  },
  {
   "cell_type": "code",
   "execution_count": 11,
   "metadata": {},
   "outputs": [
    {
     "name": "stdin",
     "output_type": "stream",
     "text": [
      "Enter first number:  hello\n",
      "Enter operator:  +\n",
      "Enter second number:  10\n"
     ]
    },
    {
     "name": "stdout",
     "output_type": "stream",
     "text": [
      "Either hello or 10 is not numeric; try again!\n"
     ]
    }
   ],
   "source": [
    "calc()"
   ]
  },
  {
   "cell_type": "code",
   "execution_count": 12,
   "metadata": {},
   "outputs": [],
   "source": [
    "def calc():\n",
    "    first = input('Enter first number: ').strip()\n",
    "    op = input('Enter operator: ').strip()\n",
    "    second = input('Enter second number: ').strip()\n",
    "\n",
    "    if first.isdigit() and second.isdigit():\n",
    "        first = int(first)   # get an integer from first\n",
    "        second = int(second) # also from second\n",
    "    \n",
    "        if op == '+':\n",
    "            result = first + second\n",
    "        elif op == '*':\n",
    "            result = first * second\n",
    "        else:\n",
    "            result = '(no result)'\n",
    "    \n",
    "        print(f'{first} {op} {second} = {result}')\n",
    "\n",
    "    # if we get to the \"else\" clause, one or both of first/second isn't numeric\n",
    "    else:\n",
    "        if not first.isdigit():\n",
    "            print(f'{first} is not numeric')\n",
    "        if not second.isdigit():\n",
    "            print(f'{second} is not numeric')\n"
   ]
  },
  {
   "cell_type": "code",
   "execution_count": 15,
   "metadata": {},
   "outputs": [
    {
     "name": "stdin",
     "output_type": "stream",
     "text": [
      "Enter first number:  10\n",
      "Enter operator:  +\n",
      "Enter second number:  20\n"
     ]
    },
    {
     "name": "stdout",
     "output_type": "stream",
     "text": [
      "10 + 20 = 30\n"
     ]
    }
   ],
   "source": [
    "calc()"
   ]
  },
  {
   "cell_type": "markdown",
   "metadata": {},
   "source": [
    "# This is really annoying!\n",
    "\n",
    "The good news is that our function works.\n",
    "\n",
    "The bad news is that every time we want to calculate something, we need to be sitting in front of the keyboard, and type answers to the questions that the function poses.\n",
    "\n",
    "We would much prefer to invoke the function, `calc`, with some arguments -- the values that we want to pass, and then we can see the results.\n",
    "\n",
    "Why is this better?\n",
    "\n",
    "- We don't need to type answers, so the invocation can be done without human intervention\n",
    "- This means that we can also automate the testing of our function\n",
    "- By letting people pass values to our function via arguments, we gain some abstraction"
   ]
  },
  {
   "cell_type": "markdown",
   "metadata": {},
   "source": [
    "# Arguments and parameters\n",
    "\n",
    "Arguments are the values that we pass to a function when we invoke it. Those arguments are assigned to special variables inside of the function, known as parameters.\n",
    "\n",
    "Most programmers confuse these two terms. But they mean distinct things:\n",
    "\n",
    "- Arguments are values that we pass when we invoke a function\n",
    "- Parameters are variables to which arguments are assigned. They are named when we define the function.\n",
    "\n",
    "In Python, the number of arguments and the number of parameters must match.\n",
    "\n",
    "When we define our function, we're now going to include one or more parameter names inside of the `()` on the first line, just after the function's name. These parameters are variables, and they are separated by commas. They will be available inside of the function body."
   ]
  },
  {
   "cell_type": "code",
   "execution_count": 16,
   "metadata": {},
   "outputs": [],
   "source": [
    "def hello(name):\n",
    "    print(f'Hello, {name}!')"
   ]
  },
  {
   "cell_type": "code",
   "execution_count": 17,
   "metadata": {},
   "outputs": [
    {
     "name": "stdout",
     "output_type": "stream",
     "text": [
      "Hello, world!\n"
     ]
    }
   ],
   "source": [
    "hello('world')"
   ]
  },
  {
   "cell_type": "code",
   "execution_count": 18,
   "metadata": {},
   "outputs": [
    {
     "name": "stdout",
     "output_type": "stream",
     "text": [
      "Hello, Reuven!\n"
     ]
    }
   ],
   "source": [
    "hello('Reuven')"
   ]
  },
  {
   "cell_type": "code",
   "execution_count": 19,
   "metadata": {},
   "outputs": [
    {
     "ename": "TypeError",
     "evalue": "hello() missing 1 required positional argument: 'name'",
     "output_type": "error",
     "traceback": [
      "\u001b[31m---------------------------------------------------------------------------\u001b[39m",
      "\u001b[31mTypeError\u001b[39m                                 Traceback (most recent call last)",
      "\u001b[36mCell\u001b[39m\u001b[36m \u001b[39m\u001b[32mIn[19]\u001b[39m\u001b[32m, line 3\u001b[39m\n\u001b[32m      1\u001b[39m \u001b[38;5;66;03m# what about that earlier version of hello? Can we still invoke it without any arguments?\u001b[39;00m\n\u001b[32m----> \u001b[39m\u001b[32m3\u001b[39m \u001b[43mhello\u001b[49m\u001b[43m(\u001b[49m\u001b[43m)\u001b[49m\n",
      "\u001b[31mTypeError\u001b[39m: hello() missing 1 required positional argument: 'name'"
     ]
    }
   ],
   "source": [
    "# what about that earlier version of hello? Can we still invoke it without any arguments?\n",
    "\n",
    "hello()"
   ]
  },
  {
   "cell_type": "markdown",
   "metadata": {},
   "source": [
    "In many languages, you can define a function many times, each with its own \"function signature\" -- the number, names, and types of parameters. When you invoke a function that such languages, the version of the function that matches your arguments is invoked.\n",
    "\n",
    "This is **NOT** the way things work in Python!\n",
    "\n",
    "We have one, and only one, version of a function at any given time, the most recently defined one. When we invoke our function, its signature has to match the number of argumentse we pass. There is no way to have more than one version of a function at at time."
   ]
  },
  {
   "cell_type": "code",
   "execution_count": 20,
   "metadata": {},
   "outputs": [
    {
     "name": "stdout",
     "output_type": "stream",
     "text": [
      "Hello, Tom!\n",
      "Hello, Dick!\n",
      "Hello, Harry!\n"
     ]
    }
   ],
   "source": [
    "# Because our function now takes an argument, we can\n",
    "# invoke it multiple times in a \"for\" loop\n",
    "\n",
    "for one_name in ['Tom', 'Dick', 'Harry']:\n",
    "    hello(one_name)"
   ]
  },
  {
   "cell_type": "code",
   "execution_count": 21,
   "metadata": {},
   "outputs": [],
   "source": [
    "# can I have more than one parameter? \n",
    "\n",
    "def hello(first, last):\n",
    "    print(f'Hello, {first} {last}!')"
   ]
  },
  {
   "cell_type": "code",
   "execution_count": 22,
   "metadata": {},
   "outputs": [
    {
     "name": "stdout",
     "output_type": "stream",
     "text": [
      "Hello, Reuven Lerner!\n"
     ]
    }
   ],
   "source": [
    "hello('Reuven', 'Lerner')"
   ]
  },
  {
   "cell_type": "code",
   "execution_count": 23,
   "metadata": {},
   "outputs": [
    {
     "ename": "TypeError",
     "evalue": "hello() missing 1 required positional argument: 'last'",
     "output_type": "error",
     "traceback": [
      "\u001b[31m---------------------------------------------------------------------------\u001b[39m",
      "\u001b[31mTypeError\u001b[39m                                 Traceback (most recent call last)",
      "\u001b[36mCell\u001b[39m\u001b[36m \u001b[39m\u001b[32mIn[23]\u001b[39m\u001b[32m, line 2\u001b[39m\n\u001b[32m      1\u001b[39m \u001b[38;5;66;03m# what if I try to call hello with just one argument?\u001b[39;00m\n\u001b[32m----> \u001b[39m\u001b[32m2\u001b[39m \u001b[43mhello\u001b[49m\u001b[43m(\u001b[49m\u001b[33;43m'\u001b[39;49m\u001b[33;43mworld\u001b[39;49m\u001b[33;43m'\u001b[39;49m\u001b[43m)\u001b[49m\n",
      "\u001b[31mTypeError\u001b[39m: hello() missing 1 required positional argument: 'last'"
     ]
    }
   ],
   "source": [
    "# what if I try to call hello with just one argument?\n",
    "hello('world')"
   ]
  },
  {
   "cell_type": "markdown",
   "metadata": {},
   "source": [
    "# Exercise: Better `calc`\n",
    "\n",
    "Rewrite `calc` such that:\n",
    "\n",
    "- It takes three arguments, no longer using `input` inside of the function body to get values\n",
    "- It assumes (hopefully correctly) that all inputs are of the right types\n",
    "- We can assume that `op` contains a string, hopefully (but not definitely) either `+` or `*`."
   ]
  },
  {
   "cell_type": "code",
   "execution_count": 24,
   "metadata": {},
   "outputs": [],
   "source": [
    "def calc(first, op, second):     # whoever invokes calc assigns to these parameters via arguments\n",
    "    if op == '+':\n",
    "        result = first + second\n",
    "    elif op == '*':\n",
    "        result = first * second\n",
    "    else:\n",
    "        result = '(no result)'\n",
    "\n",
    "    print(f'{first} {op} {second} = {result}')\n"
   ]
  },
  {
   "cell_type": "code",
   "execution_count": 25,
   "metadata": {},
   "outputs": [
    {
     "name": "stdout",
     "output_type": "stream",
     "text": [
      "10 + 3 = 13\n"
     ]
    }
   ],
   "source": [
    "calc(10, '+', 3)"
   ]
  },
  {
   "cell_type": "code",
   "execution_count": 26,
   "metadata": {},
   "outputs": [
    {
     "name": "stdout",
     "output_type": "stream",
     "text": [
      "10 * 80 = 800\n"
     ]
    }
   ],
   "source": [
    "calc(10, '*', 80)"
   ]
  },
  {
   "cell_type": "code",
   "execution_count": 27,
   "metadata": {},
   "outputs": [
    {
     "name": "stdout",
     "output_type": "stream",
     "text": [
      "10 / 3 = (no result)\n"
     ]
    }
   ],
   "source": [
    "calc(10, '/', 3)"
   ]
  },
  {
   "cell_type": "code",
   "execution_count": 28,
   "metadata": {},
   "outputs": [
    {
     "name": "stdout",
     "output_type": "stream",
     "text": [
      "1 + 1 = 11\n"
     ]
    }
   ],
   "source": [
    "# SN\n",
    "\n",
    "calc('1','+','1')      # we passed two arguments, '1' and '1'                                                         "
   ]
  },
  {
   "cell_type": "markdown",
   "metadata": {},
   "source": [
    "# Next up\n",
    "\n",
    "1. More about arguments and parameters (and thinking about them)\n",
    "2. Return values from our functions (including complex ones)\n"
   ]
  },
  {
   "cell_type": "code",
   "execution_count": 29,
   "metadata": {},
   "outputs": [],
   "source": [
    "# SN\n",
    "\n",
    "def calce (first,op,second):\n",
    "    if first.isdigit() and second.isdigit():\n",
    "        first = int(first)   # get an integer from first\n",
    "        second = int(second) # also from second\n",
    "    \n",
    "        if op == '+':\n",
    "            result = first + second\n",
    "        elif op == '*':\n",
    "            result = first * second\n",
    "        else:\n",
    "            result = '(no result)'\n",
    "    \n",
    "        print(f'{first} {op} {second} = {result}')\n",
    "\n",
    "    # if we get to the \"else\" clause, one or both of first/second isn't numeric\n",
    "    else:\n",
    "        if not first.isdigit():\n",
    "            print(f'{first} is not numeric')\n",
    "        if not second.isdigit():\n",
    "            print(f'{second} is not numeric')"
   ]
  },
  {
   "cell_type": "code",
   "execution_count": 31,
   "metadata": {},
   "outputs": [
    {
     "name": "stdout",
     "output_type": "stream",
     "text": [
      "1 + 1 = 2\n"
     ]
    }
   ],
   "source": [
    "calce('1','+','1')   "
   ]
  },
  {
   "cell_type": "code",
   "execution_count": 32,
   "metadata": {},
   "outputs": [
    {
     "name": "stdout",
     "output_type": "stream",
     "text": [
      "hello is not numeric\n"
     ]
    }
   ],
   "source": [
    "calce('hello','+','1')   "
   ]
  },
  {
   "cell_type": "markdown",
   "metadata": {},
   "source": [
    "# Argument types\n",
    "\n",
    "In many programming languages, when we define a function, we don't just say that we have a parameter. Rather, we say that we have a parameter and that it must get a value of a particular type -- such as `int` or `float` or `str`.\n",
    "\n",
    "Python doesn't have this! (Well, mostly...)\n",
    "\n",
    "Python is a dynamically typed language, meaning that variables don't have types, but values do."
   ]
  },
  {
   "cell_type": "code",
   "execution_count": 33,
   "metadata": {},
   "outputs": [
    {
     "data": {
      "text/plain": [
       "int"
      ]
     },
     "execution_count": 33,
     "metadata": {},
     "output_type": "execute_result"
    }
   ],
   "source": [
    "x = 10\n",
    "type(x)"
   ]
  },
  {
   "cell_type": "code",
   "execution_count": 34,
   "metadata": {},
   "outputs": [
    {
     "data": {
      "text/plain": [
       "str"
      ]
     },
     "execution_count": 34,
     "metadata": {},
     "output_type": "execute_result"
    }
   ],
   "source": [
    "x = 'abcd'\n",
    "type(x)"
   ]
  },
  {
   "cell_type": "markdown",
   "metadata": {},
   "source": [
    "In a statically typed programming language, the above four lines would never be acceptable. The language would say that either you cannot assign an integer to a string variable, or that you cannot assign a string to an integer variable.\n",
    "\n",
    "But these concepts are foreign to Python! You cannot say, \"This variable will only refer to values of type WHATEVER.\"\n",
    "\n",
    "- Dynamic languages (like Python) are more elegant, expressive, and terse\n",
    "- Static languages (like Java and C#) are safer, because we know what values are acceptable\n",
    "\n",
    "Python has started to incorporate features that let us add static typing if and when we want to do so. You can \"annotate\" variables and parameters to indicate what types they should accept.\n",
    "\n",
    "BUT Python, the language, won't notice these annotations! Only an external program that's checking for them will do so. \n",
    "\n",
    "This does mean that when we define a function, there aren't guardrails ensuring that only values of a particular type will be passed as arguments."
   ]
  },
  {
   "cell_type": "code",
   "execution_count": 35,
   "metadata": {},
   "outputs": [],
   "source": [
    "# let's add a type annotation to indicate that we only want to get strings!\n",
    "\n",
    "def hello(name:str):\n",
    "    print(f'Hello, {name}!')"
   ]
  },
  {
   "cell_type": "code",
   "execution_count": 36,
   "metadata": {},
   "outputs": [
    {
     "name": "stdout",
     "output_type": "stream",
     "text": [
      "Hello, world!\n"
     ]
    }
   ],
   "source": [
    "hello('world')"
   ]
  },
  {
   "cell_type": "code",
   "execution_count": 37,
   "metadata": {},
   "outputs": [
    {
     "name": "stdout",
     "output_type": "stream",
     "text": [
      "Hello, 5!\n"
     ]
    }
   ],
   "source": [
    "# what if I pass an integer?\n",
    "hello(5)"
   ]
  },
  {
   "cell_type": "code",
   "execution_count": 38,
   "metadata": {},
   "outputs": [
    {
     "name": "stdout",
     "output_type": "stream",
     "text": [
      "Hello, [10, 20, 30]!\n"
     ]
    }
   ],
   "source": [
    "# what if I pass a list?\n",
    "hello([10, 20, 30])"
   ]
  },
  {
   "cell_type": "markdown",
   "metadata": {},
   "source": [
    "# BM's error\n",
    "\n",
    "```\n",
    "---------------------------------------------------------------------------\n",
    "AttributeError                            Traceback (most recent call last)\n",
    "Cell In[18], line 1\n",
    "----> 1 calc(5, 10, '*')\n",
    "\n",
    "Cell In[17], line 2, in calc(first, second, operator)\n",
    "      1 def calc(first, second, operator):\n",
    "----> 2     if first.isdigit():\n",
    "      3         first = int(first)\n",
    "      4     else:\n",
    "\n",
    "AttributeError: 'int' object has no attribute 'isdigit'\n",
    "```"
   ]
  },
  {
   "cell_type": "markdown",
   "metadata": {},
   "source": [
    "We can use the `str.isdigit` method to find out if a string contains only digits:\n",
    "\n"
   ]
  },
  {
   "cell_type": "code",
   "execution_count": 39,
   "metadata": {},
   "outputs": [
    {
     "data": {
      "text/plain": [
       "True"
      ]
     },
     "execution_count": 39,
     "metadata": {},
     "output_type": "execute_result"
    }
   ],
   "source": [
    "s = '1234'\n",
    "s.isdigit()"
   ]
  },
  {
   "cell_type": "code",
   "execution_count": 40,
   "metadata": {},
   "outputs": [
    {
     "data": {
      "text/plain": [
       "False"
      ]
     },
     "execution_count": 40,
     "metadata": {},
     "output_type": "execute_result"
    }
   ],
   "source": [
    "s = 'hello'\n",
    "s.isdigit()"
   ]
  },
  {
   "cell_type": "markdown",
   "metadata": {},
   "source": [
    "Notice that `isdigit` is a *string* method, and only works on string!\n",
    "\n",
    "If we try to invoke `isdigit` on an integer value, Python will look for `int.isdigit` and discover that it doesn't exist."
   ]
  },
  {
   "cell_type": "code",
   "execution_count": 41,
   "metadata": {},
   "outputs": [],
   "source": [
    "def calc(first,op,second):\n",
    "    if first.isdigit() and second.isdigit():\n",
    "        first = int(first)   # get an integer from first\n",
    "        second = int(second) # also from second\n",
    "    \n",
    "        if op == '+':\n",
    "            result = first + second\n",
    "        elif op == '*':\n",
    "            result = first * second\n",
    "        else:\n",
    "            result = '(no result)'\n",
    "    \n",
    "        print(f'{first} {op} {second} = {result}')\n",
    "\n",
    "    # if we get to the \"else\" clause, one or both of first/second isn't numeric\n",
    "    else:\n",
    "        if not first.isdigit():\n",
    "            print(f'{first} is not numeric')\n",
    "        if not second.isdigit():\n",
    "            print(f'{second} is not numeric')"
   ]
  },
  {
   "cell_type": "code",
   "execution_count": 42,
   "metadata": {},
   "outputs": [
    {
     "name": "stdout",
     "output_type": "stream",
     "text": [
      "1 + 2 = 3\n"
     ]
    }
   ],
   "source": [
    "calc('1', '+', '2')"
   ]
  },
  {
   "cell_type": "code",
   "execution_count": 43,
   "metadata": {},
   "outputs": [
    {
     "ename": "AttributeError",
     "evalue": "'int' object has no attribute 'isdigit'",
     "output_type": "error",
     "traceback": [
      "\u001b[31m---------------------------------------------------------------------------\u001b[39m",
      "\u001b[31mAttributeError\u001b[39m                            Traceback (most recent call last)",
      "\u001b[36mCell\u001b[39m\u001b[36m \u001b[39m\u001b[32mIn[43]\u001b[39m\u001b[32m, line 3\u001b[39m\n\u001b[32m      1\u001b[39m \u001b[38;5;66;03m# if I do this, though...\u001b[39;00m\n\u001b[32m----> \u001b[39m\u001b[32m3\u001b[39m \u001b[43mcalc\u001b[49m\u001b[43m(\u001b[49m\u001b[32;43m1\u001b[39;49m\u001b[43m,\u001b[49m\u001b[43m \u001b[49m\u001b[33;43m'\u001b[39;49m\u001b[33;43m+\u001b[39;49m\u001b[33;43m'\u001b[39;49m\u001b[43m,\u001b[49m\u001b[43m \u001b[49m\u001b[32;43m2\u001b[39;49m\u001b[43m)\u001b[49m   \n",
      "\u001b[36mCell\u001b[39m\u001b[36m \u001b[39m\u001b[32mIn[41]\u001b[39m\u001b[32m, line 2\u001b[39m, in \u001b[36mcalc\u001b[39m\u001b[34m(first, op, second)\u001b[39m\n\u001b[32m      1\u001b[39m \u001b[38;5;28;01mdef\u001b[39;00m\u001b[38;5;250m \u001b[39m\u001b[34mcalc\u001b[39m(first,op,second):\n\u001b[32m----> \u001b[39m\u001b[32m2\u001b[39m     \u001b[38;5;28;01mif\u001b[39;00m \u001b[43mfirst\u001b[49m\u001b[43m.\u001b[49m\u001b[43misdigit\u001b[49m() \u001b[38;5;129;01mand\u001b[39;00m second.isdigit():\n\u001b[32m      3\u001b[39m         first = \u001b[38;5;28mint\u001b[39m(first)   \u001b[38;5;66;03m# get an integer from first\u001b[39;00m\n\u001b[32m      4\u001b[39m         second = \u001b[38;5;28mint\u001b[39m(second) \u001b[38;5;66;03m# also from second\u001b[39;00m\n",
      "\u001b[31mAttributeError\u001b[39m: 'int' object has no attribute 'isdigit'"
     ]
    }
   ],
   "source": [
    "# if I do this, though...\n",
    "\n",
    "calc(1, '+', 2)   "
   ]
  },
  {
   "cell_type": "code",
   "execution_count": 44,
   "metadata": {},
   "outputs": [],
   "source": [
    "def hello(name):\n",
    "    print(f'Hello, {name}')"
   ]
  },
  {
   "cell_type": "code",
   "execution_count": 45,
   "metadata": {},
   "outputs": [
    {
     "name": "stdout",
     "output_type": "stream",
     "text": [
      "Hello, world\n"
     ]
    }
   ],
   "source": [
    "# what happens when I inovke the function?\n",
    "\n",
    "# parameters: name\n",
    "# arguments: 'world'\n",
    "\n",
    "hello('world')"
   ]
  },
  {
   "cell_type": "code",
   "execution_count": 46,
   "metadata": {},
   "outputs": [],
   "source": [
    "def hello(first, last):\n",
    "    print(f'Hello, {first} {last}')"
   ]
  },
  {
   "cell_type": "code",
   "execution_count": 47,
   "metadata": {},
   "outputs": [
    {
     "name": "stdout",
     "output_type": "stream",
     "text": [
      "Hello, Reuven Lerner\n"
     ]
    }
   ],
   "source": [
    "# parameters:  first   last\n",
    "# arguments:  'Reuven'  'Lerner'\n",
    "\n",
    "hello('Reuven', 'Lerner')"
   ]
  },
  {
   "cell_type": "code",
   "execution_count": 48,
   "metadata": {},
   "outputs": [
    {
     "ename": "TypeError",
     "evalue": "hello() missing 1 required positional argument: 'last'",
     "output_type": "error",
     "traceback": [
      "\u001b[31m---------------------------------------------------------------------------\u001b[39m",
      "\u001b[31mTypeError\u001b[39m                                 Traceback (most recent call last)",
      "\u001b[36mCell\u001b[39m\u001b[36m \u001b[39m\u001b[32mIn[48]\u001b[39m\u001b[32m, line 6\u001b[39m\n\u001b[32m      1\u001b[39m \u001b[38;5;66;03m# what if I don't include one of those arguments?\u001b[39;00m\n\u001b[32m      2\u001b[39m \n\u001b[32m      3\u001b[39m \u001b[38;5;66;03m# parameters:  first   last\u001b[39;00m\n\u001b[32m      4\u001b[39m \u001b[38;5;66;03m# arguments:  'Reuven' \u001b[39;00m\n\u001b[32m----> \u001b[39m\u001b[32m6\u001b[39m \u001b[43mhello\u001b[49m\u001b[43m(\u001b[49m\u001b[33;43m'\u001b[39;49m\u001b[33;43mReuven\u001b[39;49m\u001b[33;43m'\u001b[39;49m\u001b[43m)\u001b[49m\n",
      "\u001b[31mTypeError\u001b[39m: hello() missing 1 required positional argument: 'last'"
     ]
    }
   ],
   "source": [
    "# what if I don't include one of those arguments?\n",
    "\n",
    "# parameters:  first   last\n",
    "# arguments:  'Reuven' \n",
    "\n",
    "hello('Reuven')"
   ]
  },
  {
   "cell_type": "markdown",
   "metadata": {},
   "source": [
    "# Return values\n",
    "\n",
    "So far, the only output that our functions have produced has been in the form of `print`, displaying on the screen.\n",
    "\n",
    "But that's quite different from how other functions have worked. Builtin functions don't print values. Rather, they *return* values. And we can assign their return values to variables.\n",
    "\n",
    "It might seem like there's no difference between displaying a value on the screen and getting it returned from a function, but really there's a huge difference.\n",
    "\n",
    "Really, though, we want our functions to *return* values. That way, a caller can decide whether they want to print our return value or assign it to a variable or do something else."
   ]
  },
  {
   "cell_type": "code",
   "execution_count": 49,
   "metadata": {},
   "outputs": [
    {
     "data": {
      "text/plain": [
       "4"
      ]
     },
     "execution_count": 49,
     "metadata": {},
     "output_type": "execute_result"
    }
   ],
   "source": [
    "s = 'abcd'\n",
    "x = len(s)   # len(s) returned the integer 4, so we can assign it to x\n",
    "\n",
    "x"
   ]
  },
  {
   "cell_type": "code",
   "execution_count": 50,
   "metadata": {},
   "outputs": [
    {
     "name": "stdout",
     "output_type": "stream",
     "text": [
      "Hello, a b\n"
     ]
    }
   ],
   "source": [
    "x = hello('a', 'b')"
   ]
  },
  {
   "cell_type": "code",
   "execution_count": 51,
   "metadata": {},
   "outputs": [
    {
     "name": "stdout",
     "output_type": "stream",
     "text": [
      "None\n"
     ]
    }
   ],
   "source": [
    "# what is the value of x?\n",
    "\n",
    "print(x)"
   ]
  },
  {
   "cell_type": "markdown",
   "metadata": {},
   "source": [
    "Our function `hello` didn't *return* any value, so Python returned `None` for us. This shows that we printed something on the screen, but we cannot grab that value and use it elsewhere.\n",
    "\n",
    "To fix this, we should use the `return` keyword in a function. `return` lets us return a value from our function.\n",
    "\n",
    "As soon as we use `return`, the function's execution ends. If the function is on the right side of assignment, then whatever we `return` is assigned to the variable on the left.\n",
    "\n",
    "As a general rule, it's *FAR* better to `return` values than to `print` values. You can always `print` a returned value, but you cannot capture a printed value."
   ]
  },
  {
   "cell_type": "markdown",
   "metadata": {},
   "source": [
    "# Exercise: Tidying up our `calc` function\n",
    "\n",
    "1. Modify `calc` such that it doesn't `print` a string on the screen, but rather returns a string.\n",
    "2. Test it, invoking the function, getting a string back, and then printing that string."
   ]
  },
  {
   "cell_type": "code",
   "execution_count": 52,
   "metadata": {},
   "outputs": [],
   "source": [
    "def calc(first, op, second):    \n",
    "    if op == '+':\n",
    "        result = first + second\n",
    "    elif op == '*':\n",
    "        result = first * second\n",
    "    else:\n",
    "        result = '(no result)'\n",
    "\n",
    "    return f'{first} {op} {second} = {result}'    # return is not a function, so we don't need () -- but they don't hurt\n"
   ]
  },
  {
   "cell_type": "code",
   "execution_count": 54,
   "metadata": {},
   "outputs": [
    {
     "data": {
      "text/plain": [
       "'10 + 20 = 30'"
      ]
     },
     "execution_count": 54,
     "metadata": {},
     "output_type": "execute_result"
    }
   ],
   "source": [
    "# only in Jupyter do we see results when they are returned from a function\n",
    "\n",
    "calc(10, '+' , 20)"
   ]
  },
  {
   "cell_type": "code",
   "execution_count": 55,
   "metadata": {},
   "outputs": [],
   "source": [
    "# we can now assign the result to x\n",
    "\n",
    "x = calc(10, '+' , 20)"
   ]
  },
  {
   "cell_type": "code",
   "execution_count": 56,
   "metadata": {},
   "outputs": [
    {
     "data": {
      "text/plain": [
       "'+ 20'"
      ]
     },
     "execution_count": 56,
     "metadata": {},
     "output_type": "execute_result"
    }
   ],
   "source": [
    "x[3:7]  # grab a slice of x!"
   ]
  },
  {
   "cell_type": "code",
   "execution_count": 57,
   "metadata": {},
   "outputs": [
    {
     "data": {
      "text/plain": [
       "'10 + 20 = 30'"
      ]
     },
     "execution_count": 57,
     "metadata": {},
     "output_type": "execute_result"
    }
   ],
   "source": [
    "x"
   ]
  },
  {
   "cell_type": "markdown",
   "metadata": {},
   "source": [
    "# What can we return?\n",
    "\n",
    "We can return **ANY** Python value we want:\n",
    "\n",
    "- numbers (ints and floats)\n",
    "- strings\n",
    "- lists, tuples\n",
    "- dicts"
   ]
  },
  {
   "cell_type": "code",
   "execution_count": 59,
   "metadata": {},
   "outputs": [],
   "source": [
    "# let's return a complex value:\n",
    "\n",
    "def text_analysis(text):\n",
    "    return {'len': len(text),\n",
    "            'first': text[0],\n",
    "            'last': text[-1]}"
   ]
  },
  {
   "cell_type": "code",
   "execution_count": 61,
   "metadata": {},
   "outputs": [
    {
     "data": {
      "text/plain": [
       "{'len': 5, 'first': 'h', 'last': 'o'}"
      ]
     },
     "execution_count": 61,
     "metadata": {},
     "output_type": "execute_result"
    }
   ],
   "source": [
    "d = text_analysis('hello')\n",
    "d"
   ]
  },
  {
   "cell_type": "code",
   "execution_count": 62,
   "metadata": {},
   "outputs": [
    {
     "data": {
      "text/plain": [
       "5"
      ]
     },
     "execution_count": 62,
     "metadata": {},
     "output_type": "execute_result"
    }
   ],
   "source": [
    "d['len']"
   ]
  },
  {
   "cell_type": "markdown",
   "metadata": {},
   "source": [
    "# Can we return more than one value from a function?\n",
    "\n",
    "No -- you can only return a single value from a function.\n",
    "\n",
    "Yes -- you can return a tuple, which by definition can contain multiple values, and we are encouraged to return values of different types!"
   ]
  },
  {
   "cell_type": "code",
   "execution_count": 63,
   "metadata": {},
   "outputs": [],
   "source": [
    "def text_analysis(text):\n",
    "    return (text, \n",
    "            {'len': len(text),\n",
    "            'first': text[0],\n",
    "            'last': text[-1]})"
   ]
  },
  {
   "cell_type": "code",
   "execution_count": 64,
   "metadata": {},
   "outputs": [
    {
     "data": {
      "text/plain": [
       "('hello', {'len': 5, 'first': 'h', 'last': 'o'})"
      ]
     },
     "execution_count": 64,
     "metadata": {},
     "output_type": "execute_result"
    }
   ],
   "source": [
    "text_analysis('hello')"
   ]
  },
  {
   "cell_type": "markdown",
   "metadata": {},
   "source": [
    "# `return` is the last thing that runs in a function\n",
    "\n",
    "When a function is being executed, and Python encounters the `return` keyword, it immediately stops execution of the function, and returns the stated value to the caller.\n",
    "\n",
    "Remember that assignment always works from right to left in Python: First the right side runs, then the left side runs.\n",
    "\n",
    "So if you say the following in a function:\n",
    "\n",
    "```python\n",
    "x = return(f'{first} {op} {second} = {result}')\n",
    "print(x)\n",
    "```\n",
    "\n",
    "The function will stop running on the right side of assignment in line 10! \n",
    "\n",
    "The assignment needs to be on the left side of the function call! \n",
    "\n",
    "- Inside of the function, we use `return`\n",
    "- Outside of the function, where we invoke it, we get the value back, and can assign it to a variable."
   ]
  },
  {
   "cell_type": "code",
   "execution_count": 65,
   "metadata": {},
   "outputs": [],
   "source": [
    "# (1) we define the function\n",
    "# (2) we invoke the function on the right side of the final line\n",
    "# (3) the function's body is invoked, returning a new string\n",
    "# (4) the string replaces the invocation of the function on the assignment (final) line\n",
    "# (5) that string is assigned to s\n",
    "\n",
    "def hello(name):\n",
    "    return f'Hello, {name}!'\n",
    "\n",
    "s = hello('world')   # this becomes s = 'Hello, world!'"
   ]
  },
  {
   "cell_type": "markdown",
   "metadata": {},
   "source": [
    "# How does anyone know?\n",
    "\n",
    "- How should someone know what values they can pass to our function? \n",
    "- How should someone know what values they get back from our function?\n",
    "- Where can/should we write this documentation?\n",
    "\n",
    "The answer, in Python, is in the function itself. Not as comments, but as a \"docstring,\" a string defined on the first line of the function. \n",
    "\n",
    "That string is for whoever will be *using* the function. Comments are meant for whoever will *maintain* the function.\n"
   ]
  }
 ],
 "metadata": {
  "kernelspec": {
   "display_name": "Python 3 (ipykernel)",
   "language": "python",
   "name": "python3"
  },
  "language_info": {
   "codemirror_mode": {
    "name": "ipython",
    "version": 3
   },
   "file_extension": ".py",
   "mimetype": "text/x-python",
   "name": "python",
   "nbconvert_exporter": "python",
   "pygments_lexer": "ipython3",
   "version": "3.13.5"
  },
  "widgets": {
   "application/vnd.jupyter.widget-state+json": {
    "state": {},
    "version_major": 2,
    "version_minor": 0
   }
  }
 },
 "nbformat": 4,
 "nbformat_minor": 4
}
