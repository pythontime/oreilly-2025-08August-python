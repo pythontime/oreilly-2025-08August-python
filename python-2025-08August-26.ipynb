{
 "cells": [
  {
   "cell_type": "markdown",
   "metadata": {},
   "source": [
    "# Agenda, week 4: Functions\n",
    "\n",
    "- Nouns vs. verbs in programming\n",
    "- Writing simple functions\n",
    "- Arguments and parameters\n",
    "- Return values, including complex return values\n",
    "- Default argument values\n",
    "- Local vs. global variables"
   ]
  },
  {
   "cell_type": "markdown",
   "metadata": {},
   "source": [
    "# What are functions?\n",
    "\n",
    "The data in a programming language, such as Python, are our nouns. These are the objects that we deal with on a day to day basis.\n",
    "\n",
    "If we want to do something with our values, then we have to use a verb. In Python, so far, we've seen functions to be our verbs:\n",
    "\n",
    "- `print`\n",
    "- `input`\n",
    "- `len`\n",
    "- `type`\n",
    "- `sum`\n",
    "\n",
    "We also have a bunch of methods, functions that are bolted onto a particular data type.\n",
    "\n",
    "If we want, we can write all of our code with just the functions that come with Python.\n",
    "\n",
    "The thing is, if we don't write our own functions, we have a number of problems. The first problem is that we violate the \"DRY\" rule -- don't repeat yourself!\n",
    "\n",
    "We've seen the DRY rule once before:\n",
    "\n",
    "- If we have the same code repeated on several adjacent lines, then we can replace those lines with a loop.\n",
    "- If we have the same code repeated in different places in our program, then we can replace all of those identical blocks of code with a function call -- we define the function once, and then invoke it whenever we want to use that functionality.\n"
   ]
  },
  {
   "cell_type": "markdown",
   "metadata": {},
   "source": [
    "# But there is another reason to write functions: Abstraction\n",
    "\n",
    "Abstraction is the idea that we can gather up a lot of little things together and put them under one roof, and then ignore all of the details, and talk about it as one thing.\n",
    "\n",
    "Abstraction allows us to concentrate on the big ideas, rather than all of the little processes and details that are happening. Abstraction also allows us to communicate with other people at a higher level.\n",
    "\n",
    "When we define a function, we aren't creating new functionality. But we are allowing ourselves to think at a higher level, to ignore the low-level details, and then provide the foundation for even higher-level functionality."
   ]
  },
  {
   "cell_type": "markdown",
   "metadata": {},
   "source": [
    "# In Python, functions are nouns, not just verbs\n",
    "\n",
    "Every programming language has functions (verbs) and data (nouns).\n",
    "\n",
    "But in Python, like only a few languages, the verbs are also nouns! They are what we call \"function objects,\" and they represent a function, and have all sorts of contents to keep track of the function and what it does.\n",
    "\n",
    "I'm telling you this because there is a big difference between naming a function and invoking a function in Python. If I say\n",
    "\n",
    "    myfunc\n",
    "\n",
    "then that does not invoke the function. Nothing actually happens! Because we've just referred to a function. If we really want to execute it, then we need to use `()`:\n",
    "\n",
    "    myfunc()\n",
    "\n",
    "In this second example, we actually execute the function's code, and get its results."
   ]
  },
  {
   "cell_type": "markdown",
   "metadata": {},
   "source": [
    "# Let's define a function!\n",
    "\n",
    "To define a function in Python:\n",
    "\n",
    "1. We use the reserved word `def` to define a function.\n",
    "2. We name the function -- the rules for function names are identical to those for variable names.\n",
    "3. We put `()` after the function name (for now)\n",
    "4. At the end of the line, we put `:`\n",
    "5. The following line starts an indented block, known as the \"function body.\" This is what we want to happen each time we invoke the function. These are the instructions that Python should follow when we run the function. What code can you put inside of a function body? *ANYTHING AT ALL!* You can use `print`, `input`, `len`, or any of the methods that we've discussed so far, as well as `for` loops, `while` loops, and the like."
   ]
  },
  {
   "cell_type": "code",
   "execution_count": 1,
   "metadata": {},
   "outputs": [],
   "source": [
    "# here's a simple function\n",
    "\n",
    "def hello():\n",
    "    print('Hello!')"
   ]
  },
  {
   "cell_type": "markdown",
   "metadata": {},
   "source": [
    "When I define `hello`, we don't see anything printed on the screen! That's because I have defined the function. I haven't yet asked Python to invoke the function. To do that, I need to say `hello()`, putting the `()` after the function name."
   ]
  },
  {
   "cell_type": "code",
   "execution_count": 2,
   "metadata": {},
   "outputs": [
    {
     "name": "stdout",
     "output_type": "stream",
     "text": [
      "Hello!\n"
     ]
    }
   ],
   "source": [
    "hello()"
   ]
  },
  {
   "cell_type": "markdown",
   "metadata": {},
   "source": [
    "In many programming languages, you have separate \"namespaces\" for variables and functions. You can have, in those languages, a variable named `x` and a function named `x` at the same time.\n",
    "\n",
    "**THIS IS NOT TRUE IN PYTHON!**\n",
    "\n",
    "When we define a function, we're assigning to a variable. Which means that you cannot have both data and a function assigned to the same name. The latter one to be defined is the one that gets the value."
   ]
  },
  {
   "cell_type": "code",
   "execution_count": 3,
   "metadata": {},
   "outputs": [],
   "source": [
    "# what kind of code can I put in my function?\n",
    "\n",
    "def hello():\n",
    "    name = input('Enter your name: ').strip()\n",
    "    print(f'Hello, {name}!')"
   ]
  },
  {
   "cell_type": "code",
   "execution_count": 4,
   "metadata": {},
   "outputs": [
    {
     "name": "stdin",
     "output_type": "stream",
     "text": [
      "Enter your name:  Reuven\n"
     ]
    },
    {
     "name": "stdout",
     "output_type": "stream",
     "text": [
      "Hello, Reuven!\n"
     ]
    }
   ],
   "source": [
    "hello()"
   ]
  },
  {
   "cell_type": "markdown",
   "metadata": {},
   "source": [
    "# Exercise: Calculator\n",
    "\n",
    "1. Define a function, `calc`, that when invoked asks three questions:\n",
    "    - What is the first number?\n",
    "    - What is the operator?\n",
    "    - What is the second number?\n",
    "2. Assign the answer from each question to a variable.\n",
    "3. If the numbers can be turned into integers, and if the operator is known (say, just `+` and `*`), then get the result of the calculation and print it, along with the numbers and operator.\n",
    "4. If the number inputs aren't really digits, then scold the user.\n",
    "5. If the operator input isn't known, then print the input equation but then say `(no result)` for the result.\n",
    "\n",
    "Example:\n",
    "\n",
    "    calc()\n",
    "    Enter first number: 10\n",
    "    Enter operator: +\n",
    "    Enter second number: 15\n",
    "    10 + 15 = 25\n",
    "\n",
    "    calc()\n",
    "    Enter first number: 10\n",
    "    Enter operator: +\n",
    "    Enter second number: hello\n",
    "    hello is not numeric\n",
    "\n",
    "    calc()\n",
    "    Enter first number: 10\n",
    "    Enter operator: *\n",
    "    Enter second number: 15\n",
    "    10 * 15 = (no result)\n"
   ]
  },
  {
   "cell_type": "code",
   "execution_count": 5,
   "metadata": {},
   "outputs": [],
   "source": [
    "def calc():\n",
    "    first = input('Enter first number: ').strip()\n",
    "    op = input('Enter operator: ').strip()\n",
    "    second = input('Enter second number: ').strip()\n",
    "\n",
    "    first = int(first)   # get an integer from first\n",
    "    second = int(second) # also from second\n",
    "\n",
    "    if op == '+':\n",
    "        result = first + second\n",
    "    elif op == '*':\n",
    "        result = first * second\n",
    "    else:\n",
    "        result = '(no result)'\n",
    "\n",
    "    print(f'{first} {op} {second} = {result}')"
   ]
  },
  {
   "cell_type": "code",
   "execution_count": 9,
   "metadata": {},
   "outputs": [
    {
     "name": "stdin",
     "output_type": "stream",
     "text": [
      "Enter first number:  hello\n",
      "Enter operator:  and\n",
      "Enter second number:  goodbye\n"
     ]
    },
    {
     "ename": "ValueError",
     "evalue": "invalid literal for int() with base 10: 'hello'",
     "output_type": "error",
     "traceback": [
      "\u001b[31m---------------------------------------------------------------------------\u001b[39m",
      "\u001b[31mValueError\u001b[39m                                Traceback (most recent call last)",
      "\u001b[36mCell\u001b[39m\u001b[36m \u001b[39m\u001b[32mIn[9]\u001b[39m\u001b[32m, line 1\u001b[39m\n\u001b[32m----> \u001b[39m\u001b[32m1\u001b[39m \u001b[43mcalc\u001b[49m\u001b[43m(\u001b[49m\u001b[43m)\u001b[49m\n",
      "\u001b[36mCell\u001b[39m\u001b[36m \u001b[39m\u001b[32mIn[5]\u001b[39m\u001b[32m, line 6\u001b[39m, in \u001b[36mcalc\u001b[39m\u001b[34m()\u001b[39m\n\u001b[32m      3\u001b[39m op = \u001b[38;5;28minput\u001b[39m(\u001b[33m'\u001b[39m\u001b[33mEnter operator: \u001b[39m\u001b[33m'\u001b[39m).strip()\n\u001b[32m      4\u001b[39m second = \u001b[38;5;28minput\u001b[39m(\u001b[33m'\u001b[39m\u001b[33mEnter second number: \u001b[39m\u001b[33m'\u001b[39m).strip()\n\u001b[32m----> \u001b[39m\u001b[32m6\u001b[39m first = \u001b[38;5;28;43mint\u001b[39;49m\u001b[43m(\u001b[49m\u001b[43mfirst\u001b[49m\u001b[43m)\u001b[49m   \u001b[38;5;66;03m# get an integer from first\u001b[39;00m\n\u001b[32m      7\u001b[39m second = \u001b[38;5;28mint\u001b[39m(second) \u001b[38;5;66;03m# also from second\u001b[39;00m\n\u001b[32m      9\u001b[39m \u001b[38;5;28;01mif\u001b[39;00m op == \u001b[33m'\u001b[39m\u001b[33m+\u001b[39m\u001b[33m'\u001b[39m:\n",
      "\u001b[31mValueError\u001b[39m: invalid literal for int() with base 10: 'hello'"
     ]
    }
   ],
   "source": [
    "calc()"
   ]
  },
  {
   "cell_type": "code",
   "execution_count": 10,
   "metadata": {},
   "outputs": [],
   "source": [
    "def calc():\n",
    "    first = input('Enter first number: ').strip()\n",
    "    op = input('Enter operator: ').strip()\n",
    "    second = input('Enter second number: ').strip()\n",
    "\n",
    "    if first.isdigit() and second.isdigit():\n",
    "        first = int(first)   # get an integer from first\n",
    "        second = int(second) # also from second\n",
    "    \n",
    "        if op == '+':\n",
    "            result = first + second\n",
    "        elif op == '*':\n",
    "            result = first * second\n",
    "        else:\n",
    "            result = '(no result)'\n",
    "    \n",
    "        print(f'{first} {op} {second} = {result}')\n",
    "\n",
    "    else:\n",
    "        print(f'Either {first} or {second} is not numeric; try again!')        "
   ]
  },
  {
   "cell_type": "code",
   "execution_count": 11,
   "metadata": {},
   "outputs": [
    {
     "name": "stdin",
     "output_type": "stream",
     "text": [
      "Enter first number:  hello\n",
      "Enter operator:  +\n",
      "Enter second number:  10\n"
     ]
    },
    {
     "name": "stdout",
     "output_type": "stream",
     "text": [
      "Either hello or 10 is not numeric; try again!\n"
     ]
    }
   ],
   "source": [
    "calc()"
   ]
  },
  {
   "cell_type": "code",
   "execution_count": 12,
   "metadata": {},
   "outputs": [],
   "source": [
    "def calc():\n",
    "    first = input('Enter first number: ').strip()\n",
    "    op = input('Enter operator: ').strip()\n",
    "    second = input('Enter second number: ').strip()\n",
    "\n",
    "    if first.isdigit() and second.isdigit():\n",
    "        first = int(first)   # get an integer from first\n",
    "        second = int(second) # also from second\n",
    "    \n",
    "        if op == '+':\n",
    "            result = first + second\n",
    "        elif op == '*':\n",
    "            result = first * second\n",
    "        else:\n",
    "            result = '(no result)'\n",
    "    \n",
    "        print(f'{first} {op} {second} = {result}')\n",
    "\n",
    "    # if we get to the \"else\" clause, one or both of first/second isn't numeric\n",
    "    else:\n",
    "        if not first.isdigit():\n",
    "            print(f'{first} is not numeric')\n",
    "        if not second.isdigit():\n",
    "            print(f'{second} is not numeric')\n"
   ]
  },
  {
   "cell_type": "code",
   "execution_count": 15,
   "metadata": {},
   "outputs": [
    {
     "name": "stdin",
     "output_type": "stream",
     "text": [
      "Enter first number:  10\n",
      "Enter operator:  +\n",
      "Enter second number:  20\n"
     ]
    },
    {
     "name": "stdout",
     "output_type": "stream",
     "text": [
      "10 + 20 = 30\n"
     ]
    }
   ],
   "source": [
    "calc()"
   ]
  },
  {
   "cell_type": "markdown",
   "metadata": {},
   "source": [
    "# This is really annoying!\n",
    "\n",
    "The good news is that our function works.\n",
    "\n",
    "The bad news is that every time we want to calculate something, we need to be sitting in front of the keyboard, and type answers to the questions that the function poses.\n",
    "\n",
    "We would much prefer to invoke the function, `calc`, with some arguments -- the values that we want to pass, and then we can see the results.\n",
    "\n",
    "Why is this better?\n",
    "\n",
    "- We don't need to type answers, so the invocation can be done without human intervention\n",
    "- This means that we can also automate the testing of our function\n",
    "- By letting people pass values to our function via arguments, we gain some abstraction"
   ]
  },
  {
   "cell_type": "markdown",
   "metadata": {},
   "source": [
    "# Arguments and parameters\n",
    "\n",
    "Arguments are the values that we pass to a function when we invoke it. Those arguments are assigned to special variables inside of the function, known as parameters.\n",
    "\n",
    "Most programmers confuse these two terms. But they mean distinct things:\n",
    "\n",
    "- Arguments are values that we pass when we invoke a function\n",
    "- Parameters are variables to which arguments are assigned. They are named when we define the function.\n",
    "\n",
    "In Python, the number of arguments and the number of parameters must match.\n",
    "\n",
    "When we define our function, we're now going to include one or more parameter names inside of the `()` on the first line, just after the function's name. These parameters are variables, and they are separated by commas. They will be available inside of the function body."
   ]
  },
  {
   "cell_type": "code",
   "execution_count": 16,
   "metadata": {},
   "outputs": [],
   "source": [
    "def hello(name):\n",
    "    print(f'Hello, {name}!')"
   ]
  },
  {
   "cell_type": "code",
   "execution_count": 17,
   "metadata": {},
   "outputs": [
    {
     "name": "stdout",
     "output_type": "stream",
     "text": [
      "Hello, world!\n"
     ]
    }
   ],
   "source": [
    "hello('world')"
   ]
  },
  {
   "cell_type": "code",
   "execution_count": 18,
   "metadata": {},
   "outputs": [
    {
     "name": "stdout",
     "output_type": "stream",
     "text": [
      "Hello, Reuven!\n"
     ]
    }
   ],
   "source": [
    "hello('Reuven')"
   ]
  },
  {
   "cell_type": "code",
   "execution_count": 19,
   "metadata": {},
   "outputs": [
    {
     "ename": "TypeError",
     "evalue": "hello() missing 1 required positional argument: 'name'",
     "output_type": "error",
     "traceback": [
      "\u001b[31m---------------------------------------------------------------------------\u001b[39m",
      "\u001b[31mTypeError\u001b[39m                                 Traceback (most recent call last)",
      "\u001b[36mCell\u001b[39m\u001b[36m \u001b[39m\u001b[32mIn[19]\u001b[39m\u001b[32m, line 3\u001b[39m\n\u001b[32m      1\u001b[39m \u001b[38;5;66;03m# what about that earlier version of hello? Can we still invoke it without any arguments?\u001b[39;00m\n\u001b[32m----> \u001b[39m\u001b[32m3\u001b[39m \u001b[43mhello\u001b[49m\u001b[43m(\u001b[49m\u001b[43m)\u001b[49m\n",
      "\u001b[31mTypeError\u001b[39m: hello() missing 1 required positional argument: 'name'"
     ]
    }
   ],
   "source": [
    "# what about that earlier version of hello? Can we still invoke it without any arguments?\n",
    "\n",
    "hello()"
   ]
  },
  {
   "cell_type": "markdown",
   "metadata": {},
   "source": [
    "In many languages, you can define a function many times, each with its own \"function signature\" -- the number, names, and types of parameters. When you invoke a function that such languages, the version of the function that matches your arguments is invoked.\n",
    "\n",
    "This is **NOT** the way things work in Python!\n",
    "\n",
    "We have one, and only one, version of a function at any given time, the most recently defined one. When we invoke our function, its signature has to match the number of argumentse we pass. There is no way to have more than one version of a function at at time."
   ]
  },
  {
   "cell_type": "code",
   "execution_count": 20,
   "metadata": {},
   "outputs": [
    {
     "name": "stdout",
     "output_type": "stream",
     "text": [
      "Hello, Tom!\n",
      "Hello, Dick!\n",
      "Hello, Harry!\n"
     ]
    }
   ],
   "source": [
    "# Because our function now takes an argument, we can\n",
    "# invoke it multiple times in a \"for\" loop\n",
    "\n",
    "for one_name in ['Tom', 'Dick', 'Harry']:\n",
    "    hello(one_name)"
   ]
  },
  {
   "cell_type": "code",
   "execution_count": 21,
   "metadata": {},
   "outputs": [],
   "source": [
    "# can I have more than one parameter? \n",
    "\n",
    "def hello(first, last):\n",
    "    print(f'Hello, {first} {last}!')"
   ]
  },
  {
   "cell_type": "code",
   "execution_count": 22,
   "metadata": {},
   "outputs": [
    {
     "name": "stdout",
     "output_type": "stream",
     "text": [
      "Hello, Reuven Lerner!\n"
     ]
    }
   ],
   "source": [
    "hello('Reuven', 'Lerner')"
   ]
  },
  {
   "cell_type": "code",
   "execution_count": 23,
   "metadata": {},
   "outputs": [
    {
     "ename": "TypeError",
     "evalue": "hello() missing 1 required positional argument: 'last'",
     "output_type": "error",
     "traceback": [
      "\u001b[31m---------------------------------------------------------------------------\u001b[39m",
      "\u001b[31mTypeError\u001b[39m                                 Traceback (most recent call last)",
      "\u001b[36mCell\u001b[39m\u001b[36m \u001b[39m\u001b[32mIn[23]\u001b[39m\u001b[32m, line 2\u001b[39m\n\u001b[32m      1\u001b[39m \u001b[38;5;66;03m# what if I try to call hello with just one argument?\u001b[39;00m\n\u001b[32m----> \u001b[39m\u001b[32m2\u001b[39m \u001b[43mhello\u001b[49m\u001b[43m(\u001b[49m\u001b[33;43m'\u001b[39;49m\u001b[33;43mworld\u001b[39;49m\u001b[33;43m'\u001b[39;49m\u001b[43m)\u001b[49m\n",
      "\u001b[31mTypeError\u001b[39m: hello() missing 1 required positional argument: 'last'"
     ]
    }
   ],
   "source": [
    "# what if I try to call hello with just one argument?\n",
    "hello('world')"
   ]
  },
  {
   "cell_type": "markdown",
   "metadata": {},
   "source": [
    "# Exercise: Better `calc`\n",
    "\n",
    "Rewrite `calc` such that:\n",
    "\n",
    "- It takes three arguments, no longer using `input` inside of the function body to get values\n",
    "- It assumes (hopefully correctly) that all inputs are of the right types\n",
    "- We can assume that `op` contains a string, hopefully (but not definitely) either `+` or `*`."
   ]
  },
  {
   "cell_type": "code",
   "execution_count": 24,
   "metadata": {},
   "outputs": [],
   "source": [
    "def calc(first, op, second):     # whoever invokes calc assigns to these parameters via arguments\n",
    "    if op == '+':\n",
    "        result = first + second\n",
    "    elif op == '*':\n",
    "        result = first * second\n",
    "    else:\n",
    "        result = '(no result)'\n",
    "\n",
    "    print(f'{first} {op} {second} = {result}')\n"
   ]
  },
  {
   "cell_type": "code",
   "execution_count": 25,
   "metadata": {},
   "outputs": [
    {
     "name": "stdout",
     "output_type": "stream",
     "text": [
      "10 + 3 = 13\n"
     ]
    }
   ],
   "source": [
    "calc(10, '+', 3)"
   ]
  },
  {
   "cell_type": "code",
   "execution_count": 26,
   "metadata": {},
   "outputs": [
    {
     "name": "stdout",
     "output_type": "stream",
     "text": [
      "10 * 80 = 800\n"
     ]
    }
   ],
   "source": [
    "calc(10, '*', 80)"
   ]
  },
  {
   "cell_type": "code",
   "execution_count": 27,
   "metadata": {},
   "outputs": [
    {
     "name": "stdout",
     "output_type": "stream",
     "text": [
      "10 / 3 = (no result)\n"
     ]
    }
   ],
   "source": [
    "calc(10, '/', 3)"
   ]
  },
  {
   "cell_type": "code",
   "execution_count": 28,
   "metadata": {},
   "outputs": [
    {
     "name": "stdout",
     "output_type": "stream",
     "text": [
      "1 + 1 = 11\n"
     ]
    }
   ],
   "source": [
    "# SN\n",
    "\n",
    "calc('1','+','1')      # we passed two arguments, '1' and '1'                                                         "
   ]
  },
  {
   "cell_type": "markdown",
   "metadata": {},
   "source": [
    "# Next up\n",
    "\n",
    "1. More about arguments and parameters (and thinking about them)\n",
    "2. Return values from our functions (including complex ones)\n"
   ]
  },
  {
   "cell_type": "code",
   "execution_count": 29,
   "metadata": {},
   "outputs": [],
   "source": [
    "# SN\n",
    "\n",
    "def calce (first,op,second):\n",
    "    if first.isdigit() and second.isdigit():\n",
    "        first = int(first)   # get an integer from first\n",
    "        second = int(second) # also from second\n",
    "    \n",
    "        if op == '+':\n",
    "            result = first + second\n",
    "        elif op == '*':\n",
    "            result = first * second\n",
    "        else:\n",
    "            result = '(no result)'\n",
    "    \n",
    "        print(f'{first} {op} {second} = {result}')\n",
    "\n",
    "    # if we get to the \"else\" clause, one or both of first/second isn't numeric\n",
    "    else:\n",
    "        if not first.isdigit():\n",
    "            print(f'{first} is not numeric')\n",
    "        if not second.isdigit():\n",
    "            print(f'{second} is not numeric')"
   ]
  },
  {
   "cell_type": "code",
   "execution_count": 31,
   "metadata": {},
   "outputs": [
    {
     "name": "stdout",
     "output_type": "stream",
     "text": [
      "1 + 1 = 2\n"
     ]
    }
   ],
   "source": [
    "calce('1','+','1')   "
   ]
  },
  {
   "cell_type": "code",
   "execution_count": 32,
   "metadata": {},
   "outputs": [
    {
     "name": "stdout",
     "output_type": "stream",
     "text": [
      "hello is not numeric\n"
     ]
    }
   ],
   "source": [
    "calce('hello','+','1')   "
   ]
  },
  {
   "cell_type": "markdown",
   "metadata": {},
   "source": [
    "# Argument types\n",
    "\n",
    "In many programming languages, when we define a function, we don't just say that we have a parameter. Rather, we say that we have a parameter and that it must get a value of a particular type -- such as `int` or `float` or `str`.\n",
    "\n",
    "Python doesn't have this! (Well, mostly...)\n",
    "\n",
    "Python is a dynamically typed language, meaning that variables don't have types, but values do."
   ]
  },
  {
   "cell_type": "code",
   "execution_count": 33,
   "metadata": {},
   "outputs": [
    {
     "data": {
      "text/plain": [
       "int"
      ]
     },
     "execution_count": 33,
     "metadata": {},
     "output_type": "execute_result"
    }
   ],
   "source": [
    "x = 10\n",
    "type(x)"
   ]
  },
  {
   "cell_type": "code",
   "execution_count": 34,
   "metadata": {},
   "outputs": [
    {
     "data": {
      "text/plain": [
       "str"
      ]
     },
     "execution_count": 34,
     "metadata": {},
     "output_type": "execute_result"
    }
   ],
   "source": [
    "x = 'abcd'\n",
    "type(x)"
   ]
  },
  {
   "cell_type": "markdown",
   "metadata": {},
   "source": [
    "In a statically typed programming language, the above four lines would never be acceptable. The language would say that either you cannot assign an integer to a string variable, or that you cannot assign a string to an integer variable.\n",
    "\n",
    "But these concepts are foreign to Python! You cannot say, \"This variable will only refer to values of type WHATEVER.\"\n",
    "\n",
    "- Dynamic languages (like Python) are more elegant, expressive, and terse\n",
    "- Static languages (like Java and C#) are safer, because we know what values are acceptable\n",
    "\n",
    "Python has started to incorporate features that let us add static typing if and when we want to do so. You can \"annotate\" variables and parameters to indicate what types they should accept.\n",
    "\n",
    "BUT Python, the language, won't notice these annotations! Only an external program that's checking for them will do so. \n",
    "\n",
    "This does mean that when we define a function, there aren't guardrails ensuring that only values of a particular type will be passed as arguments."
   ]
  },
  {
   "cell_type": "code",
   "execution_count": 35,
   "metadata": {},
   "outputs": [],
   "source": [
    "# let's add a type annotation to indicate that we only want to get strings!\n",
    "\n",
    "def hello(name:str):\n",
    "    print(f'Hello, {name}!')"
   ]
  },
  {
   "cell_type": "code",
   "execution_count": 36,
   "metadata": {},
   "outputs": [
    {
     "name": "stdout",
     "output_type": "stream",
     "text": [
      "Hello, world!\n"
     ]
    }
   ],
   "source": [
    "hello('world')"
   ]
  },
  {
   "cell_type": "code",
   "execution_count": 37,
   "metadata": {},
   "outputs": [
    {
     "name": "stdout",
     "output_type": "stream",
     "text": [
      "Hello, 5!\n"
     ]
    }
   ],
   "source": [
    "# what if I pass an integer?\n",
    "hello(5)"
   ]
  },
  {
   "cell_type": "code",
   "execution_count": 38,
   "metadata": {},
   "outputs": [
    {
     "name": "stdout",
     "output_type": "stream",
     "text": [
      "Hello, [10, 20, 30]!\n"
     ]
    }
   ],
   "source": [
    "# what if I pass a list?\n",
    "hello([10, 20, 30])"
   ]
  },
  {
   "cell_type": "markdown",
   "metadata": {},
   "source": [
    "# BM's error\n",
    "\n",
    "```\n",
    "---------------------------------------------------------------------------\n",
    "AttributeError                            Traceback (most recent call last)\n",
    "Cell In[18], line 1\n",
    "----> 1 calc(5, 10, '*')\n",
    "\n",
    "Cell In[17], line 2, in calc(first, second, operator)\n",
    "      1 def calc(first, second, operator):\n",
    "----> 2     if first.isdigit():\n",
    "      3         first = int(first)\n",
    "      4     else:\n",
    "\n",
    "AttributeError: 'int' object has no attribute 'isdigit'\n",
    "```"
   ]
  },
  {
   "cell_type": "markdown",
   "metadata": {},
   "source": [
    "We can use the `str.isdigit` method to find out if a string contains only digits:\n",
    "\n"
   ]
  },
  {
   "cell_type": "code",
   "execution_count": 39,
   "metadata": {},
   "outputs": [
    {
     "data": {
      "text/plain": [
       "True"
      ]
     },
     "execution_count": 39,
     "metadata": {},
     "output_type": "execute_result"
    }
   ],
   "source": [
    "s = '1234'\n",
    "s.isdigit()"
   ]
  },
  {
   "cell_type": "code",
   "execution_count": 40,
   "metadata": {},
   "outputs": [
    {
     "data": {
      "text/plain": [
       "False"
      ]
     },
     "execution_count": 40,
     "metadata": {},
     "output_type": "execute_result"
    }
   ],
   "source": [
    "s = 'hello'\n",
    "s.isdigit()"
   ]
  },
  {
   "cell_type": "markdown",
   "metadata": {},
   "source": [
    "Notice that `isdigit` is a *string* method, and only works on string!\n",
    "\n",
    "If we try to invoke `isdigit` on an integer value, Python will look for `int.isdigit` and discover that it doesn't exist."
   ]
  },
  {
   "cell_type": "code",
   "execution_count": 41,
   "metadata": {},
   "outputs": [],
   "source": [
    "def calc(first,op,second):\n",
    "    if first.isdigit() and second.isdigit():\n",
    "        first = int(first)   # get an integer from first\n",
    "        second = int(second) # also from second\n",
    "    \n",
    "        if op == '+':\n",
    "            result = first + second\n",
    "        elif op == '*':\n",
    "            result = first * second\n",
    "        else:\n",
    "            result = '(no result)'\n",
    "    \n",
    "        print(f'{first} {op} {second} = {result}')\n",
    "\n",
    "    # if we get to the \"else\" clause, one or both of first/second isn't numeric\n",
    "    else:\n",
    "        if not first.isdigit():\n",
    "            print(f'{first} is not numeric')\n",
    "        if not second.isdigit():\n",
    "            print(f'{second} is not numeric')"
   ]
  },
  {
   "cell_type": "code",
   "execution_count": 42,
   "metadata": {},
   "outputs": [
    {
     "name": "stdout",
     "output_type": "stream",
     "text": [
      "1 + 2 = 3\n"
     ]
    }
   ],
   "source": [
    "calc('1', '+', '2')"
   ]
  },
  {
   "cell_type": "code",
   "execution_count": 43,
   "metadata": {},
   "outputs": [
    {
     "ename": "AttributeError",
     "evalue": "'int' object has no attribute 'isdigit'",
     "output_type": "error",
     "traceback": [
      "\u001b[31m---------------------------------------------------------------------------\u001b[39m",
      "\u001b[31mAttributeError\u001b[39m                            Traceback (most recent call last)",
      "\u001b[36mCell\u001b[39m\u001b[36m \u001b[39m\u001b[32mIn[43]\u001b[39m\u001b[32m, line 3\u001b[39m\n\u001b[32m      1\u001b[39m \u001b[38;5;66;03m# if I do this, though...\u001b[39;00m\n\u001b[32m----> \u001b[39m\u001b[32m3\u001b[39m \u001b[43mcalc\u001b[49m\u001b[43m(\u001b[49m\u001b[32;43m1\u001b[39;49m\u001b[43m,\u001b[49m\u001b[43m \u001b[49m\u001b[33;43m'\u001b[39;49m\u001b[33;43m+\u001b[39;49m\u001b[33;43m'\u001b[39;49m\u001b[43m,\u001b[49m\u001b[43m \u001b[49m\u001b[32;43m2\u001b[39;49m\u001b[43m)\u001b[49m   \n",
      "\u001b[36mCell\u001b[39m\u001b[36m \u001b[39m\u001b[32mIn[41]\u001b[39m\u001b[32m, line 2\u001b[39m, in \u001b[36mcalc\u001b[39m\u001b[34m(first, op, second)\u001b[39m\n\u001b[32m      1\u001b[39m \u001b[38;5;28;01mdef\u001b[39;00m\u001b[38;5;250m \u001b[39m\u001b[34mcalc\u001b[39m(first,op,second):\n\u001b[32m----> \u001b[39m\u001b[32m2\u001b[39m     \u001b[38;5;28;01mif\u001b[39;00m \u001b[43mfirst\u001b[49m\u001b[43m.\u001b[49m\u001b[43misdigit\u001b[49m() \u001b[38;5;129;01mand\u001b[39;00m second.isdigit():\n\u001b[32m      3\u001b[39m         first = \u001b[38;5;28mint\u001b[39m(first)   \u001b[38;5;66;03m# get an integer from first\u001b[39;00m\n\u001b[32m      4\u001b[39m         second = \u001b[38;5;28mint\u001b[39m(second) \u001b[38;5;66;03m# also from second\u001b[39;00m\n",
      "\u001b[31mAttributeError\u001b[39m: 'int' object has no attribute 'isdigit'"
     ]
    }
   ],
   "source": [
    "# if I do this, though...\n",
    "\n",
    "calc(1, '+', 2)   "
   ]
  },
  {
   "cell_type": "code",
   "execution_count": 44,
   "metadata": {},
   "outputs": [],
   "source": [
    "def hello(name):\n",
    "    print(f'Hello, {name}')"
   ]
  },
  {
   "cell_type": "code",
   "execution_count": 45,
   "metadata": {},
   "outputs": [
    {
     "name": "stdout",
     "output_type": "stream",
     "text": [
      "Hello, world\n"
     ]
    }
   ],
   "source": [
    "# what happens when I inovke the function?\n",
    "\n",
    "# parameters: name\n",
    "# arguments: 'world'\n",
    "\n",
    "hello('world')"
   ]
  },
  {
   "cell_type": "code",
   "execution_count": 46,
   "metadata": {},
   "outputs": [],
   "source": [
    "def hello(first, last):\n",
    "    print(f'Hello, {first} {last}')"
   ]
  },
  {
   "cell_type": "code",
   "execution_count": 47,
   "metadata": {},
   "outputs": [
    {
     "name": "stdout",
     "output_type": "stream",
     "text": [
      "Hello, Reuven Lerner\n"
     ]
    }
   ],
   "source": [
    "# parameters:  first   last\n",
    "# arguments:  'Reuven'  'Lerner'\n",
    "\n",
    "hello('Reuven', 'Lerner')"
   ]
  },
  {
   "cell_type": "code",
   "execution_count": 48,
   "metadata": {},
   "outputs": [
    {
     "ename": "TypeError",
     "evalue": "hello() missing 1 required positional argument: 'last'",
     "output_type": "error",
     "traceback": [
      "\u001b[31m---------------------------------------------------------------------------\u001b[39m",
      "\u001b[31mTypeError\u001b[39m                                 Traceback (most recent call last)",
      "\u001b[36mCell\u001b[39m\u001b[36m \u001b[39m\u001b[32mIn[48]\u001b[39m\u001b[32m, line 6\u001b[39m\n\u001b[32m      1\u001b[39m \u001b[38;5;66;03m# what if I don't include one of those arguments?\u001b[39;00m\n\u001b[32m      2\u001b[39m \n\u001b[32m      3\u001b[39m \u001b[38;5;66;03m# parameters:  first   last\u001b[39;00m\n\u001b[32m      4\u001b[39m \u001b[38;5;66;03m# arguments:  'Reuven' \u001b[39;00m\n\u001b[32m----> \u001b[39m\u001b[32m6\u001b[39m \u001b[43mhello\u001b[49m\u001b[43m(\u001b[49m\u001b[33;43m'\u001b[39;49m\u001b[33;43mReuven\u001b[39;49m\u001b[33;43m'\u001b[39;49m\u001b[43m)\u001b[49m\n",
      "\u001b[31mTypeError\u001b[39m: hello() missing 1 required positional argument: 'last'"
     ]
    }
   ],
   "source": [
    "# what if I don't include one of those arguments?\n",
    "\n",
    "# parameters:  first   last\n",
    "# arguments:  'Reuven' \n",
    "\n",
    "hello('Reuven')"
   ]
  },
  {
   "cell_type": "markdown",
   "metadata": {},
   "source": [
    "# Return values\n",
    "\n",
    "So far, the only output that our functions have produced has been in the form of `print`, displaying on the screen.\n",
    "\n",
    "But that's quite different from how other functions have worked. Builtin functions don't print values. Rather, they *return* values. And we can assign their return values to variables.\n",
    "\n",
    "It might seem like there's no difference between displaying a value on the screen and getting it returned from a function, but really there's a huge difference.\n",
    "\n",
    "Really, though, we want our functions to *return* values. That way, a caller can decide whether they want to print our return value or assign it to a variable or do something else."
   ]
  },
  {
   "cell_type": "code",
   "execution_count": 49,
   "metadata": {},
   "outputs": [
    {
     "data": {
      "text/plain": [
       "4"
      ]
     },
     "execution_count": 49,
     "metadata": {},
     "output_type": "execute_result"
    }
   ],
   "source": [
    "s = 'abcd'\n",
    "x = len(s)   # len(s) returned the integer 4, so we can assign it to x\n",
    "\n",
    "x"
   ]
  },
  {
   "cell_type": "code",
   "execution_count": 50,
   "metadata": {},
   "outputs": [
    {
     "name": "stdout",
     "output_type": "stream",
     "text": [
      "Hello, a b\n"
     ]
    }
   ],
   "source": [
    "x = hello('a', 'b')"
   ]
  },
  {
   "cell_type": "code",
   "execution_count": 51,
   "metadata": {},
   "outputs": [
    {
     "name": "stdout",
     "output_type": "stream",
     "text": [
      "None\n"
     ]
    }
   ],
   "source": [
    "# what is the value of x?\n",
    "\n",
    "print(x)"
   ]
  },
  {
   "cell_type": "markdown",
   "metadata": {},
   "source": [
    "Our function `hello` didn't *return* any value, so Python returned `None` for us. This shows that we printed something on the screen, but we cannot grab that value and use it elsewhere.\n",
    "\n",
    "To fix this, we should use the `return` keyword in a function. `return` lets us return a value from our function.\n",
    "\n",
    "As soon as we use `return`, the function's execution ends. If the function is on the right side of assignment, then whatever we `return` is assigned to the variable on the left.\n",
    "\n",
    "As a general rule, it's *FAR* better to `return` values than to `print` values. You can always `print` a returned value, but you cannot capture a printed value."
   ]
  },
  {
   "cell_type": "markdown",
   "metadata": {},
   "source": [
    "# Exercise: Tidying up our `calc` function\n",
    "\n",
    "1. Modify `calc` such that it doesn't `print` a string on the screen, but rather returns a string.\n",
    "2. Test it, invoking the function, getting a string back, and then printing that string."
   ]
  },
  {
   "cell_type": "code",
   "execution_count": 52,
   "metadata": {},
   "outputs": [],
   "source": [
    "def calc(first, op, second):    \n",
    "    if op == '+':\n",
    "        result = first + second\n",
    "    elif op == '*':\n",
    "        result = first * second\n",
    "    else:\n",
    "        result = '(no result)'\n",
    "\n",
    "    return f'{first} {op} {second} = {result}'    # return is not a function, so we don't need () -- but they don't hurt\n"
   ]
  },
  {
   "cell_type": "code",
   "execution_count": 54,
   "metadata": {},
   "outputs": [
    {
     "data": {
      "text/plain": [
       "'10 + 20 = 30'"
      ]
     },
     "execution_count": 54,
     "metadata": {},
     "output_type": "execute_result"
    }
   ],
   "source": [
    "# only in Jupyter do we see results when they are returned from a function\n",
    "\n",
    "calc(10, '+' , 20)"
   ]
  },
  {
   "cell_type": "code",
   "execution_count": 55,
   "metadata": {},
   "outputs": [],
   "source": [
    "# we can now assign the result to x\n",
    "\n",
    "x = calc(10, '+' , 20)"
   ]
  },
  {
   "cell_type": "code",
   "execution_count": 56,
   "metadata": {},
   "outputs": [
    {
     "data": {
      "text/plain": [
       "'+ 20'"
      ]
     },
     "execution_count": 56,
     "metadata": {},
     "output_type": "execute_result"
    }
   ],
   "source": [
    "x[3:7]  # grab a slice of x!"
   ]
  },
  {
   "cell_type": "code",
   "execution_count": 57,
   "metadata": {},
   "outputs": [
    {
     "data": {
      "text/plain": [
       "'10 + 20 = 30'"
      ]
     },
     "execution_count": 57,
     "metadata": {},
     "output_type": "execute_result"
    }
   ],
   "source": [
    "x"
   ]
  },
  {
   "cell_type": "markdown",
   "metadata": {},
   "source": [
    "# What can we return?\n",
    "\n",
    "We can return **ANY** Python value we want:\n",
    "\n",
    "- numbers (ints and floats)\n",
    "- strings\n",
    "- lists, tuples\n",
    "- dicts"
   ]
  },
  {
   "cell_type": "code",
   "execution_count": 59,
   "metadata": {},
   "outputs": [],
   "source": [
    "# let's return a complex value:\n",
    "\n",
    "def text_analysis(text):\n",
    "    return {'len': len(text),\n",
    "            'first': text[0],\n",
    "            'last': text[-1]}"
   ]
  },
  {
   "cell_type": "code",
   "execution_count": 61,
   "metadata": {},
   "outputs": [
    {
     "data": {
      "text/plain": [
       "{'len': 5, 'first': 'h', 'last': 'o'}"
      ]
     },
     "execution_count": 61,
     "metadata": {},
     "output_type": "execute_result"
    }
   ],
   "source": [
    "d = text_analysis('hello')\n",
    "d"
   ]
  },
  {
   "cell_type": "code",
   "execution_count": 62,
   "metadata": {},
   "outputs": [
    {
     "data": {
      "text/plain": [
       "5"
      ]
     },
     "execution_count": 62,
     "metadata": {},
     "output_type": "execute_result"
    }
   ],
   "source": [
    "d['len']"
   ]
  },
  {
   "cell_type": "markdown",
   "metadata": {},
   "source": [
    "# Can we return more than one value from a function?\n",
    "\n",
    "No -- you can only return a single value from a function.\n",
    "\n",
    "Yes -- you can return a tuple, which by definition can contain multiple values, and we are encouraged to return values of different types!"
   ]
  },
  {
   "cell_type": "code",
   "execution_count": 63,
   "metadata": {},
   "outputs": [],
   "source": [
    "def text_analysis(text):\n",
    "    return (text, \n",
    "            {'len': len(text),\n",
    "            'first': text[0],\n",
    "            'last': text[-1]})"
   ]
  },
  {
   "cell_type": "code",
   "execution_count": 64,
   "metadata": {},
   "outputs": [
    {
     "data": {
      "text/plain": [
       "('hello', {'len': 5, 'first': 'h', 'last': 'o'})"
      ]
     },
     "execution_count": 64,
     "metadata": {},
     "output_type": "execute_result"
    }
   ],
   "source": [
    "text_analysis('hello')"
   ]
  },
  {
   "cell_type": "markdown",
   "metadata": {},
   "source": [
    "# `return` is the last thing that runs in a function\n",
    "\n",
    "When a function is being executed, and Python encounters the `return` keyword, it immediately stops execution of the function, and returns the stated value to the caller.\n",
    "\n",
    "Remember that assignment always works from right to left in Python: First the right side runs, then the left side runs.\n",
    "\n",
    "So if you say the following in a function:\n",
    "\n",
    "```python\n",
    "x = return(f'{first} {op} {second} = {result}')\n",
    "print(x)\n",
    "```\n",
    "\n",
    "The function will stop running on the right side of assignment in line 10! \n",
    "\n",
    "The assignment needs to be on the left side of the function call! \n",
    "\n",
    "- Inside of the function, we use `return`\n",
    "- Outside of the function, where we invoke it, we get the value back, and can assign it to a variable."
   ]
  },
  {
   "cell_type": "code",
   "execution_count": 65,
   "metadata": {},
   "outputs": [],
   "source": [
    "# (1) we define the function\n",
    "# (2) we invoke the function on the right side of the final line\n",
    "# (3) the function's body is invoked, returning a new string\n",
    "# (4) the string replaces the invocation of the function on the assignment (final) line\n",
    "# (5) that string is assigned to s\n",
    "\n",
    "def hello(name):\n",
    "    return f'Hello, {name}!'\n",
    "\n",
    "s = hello('world')   # this becomes s = 'Hello, world!'"
   ]
  },
  {
   "cell_type": "markdown",
   "metadata": {},
   "source": [
    "# How does anyone know?\n",
    "\n",
    "- How should someone know what values they can pass to our function? \n",
    "- How should someone know what values they get back from our function?\n",
    "- Where can/should we write this documentation?\n",
    "\n",
    "The answer, in Python, is in the function itself. Not as comments, but as a \"docstring,\" a string defined on the first line of the function. \n",
    "\n",
    "That string is for whoever will be *using* the function. Comments are meant for whoever will *maintain* the function.\n",
    "\n",
    "Traditionally, we use triple-quoted strings for our docstrings. That allows us to have multi-line strings without messiness."
   ]
  },
  {
   "cell_type": "code",
   "execution_count": 66,
   "metadata": {},
   "outputs": [],
   "source": [
    "def hello(name):\n",
    "    \"\"\"The best, friendliest function ever!\n",
    "\n",
    "    Expects:  One argument, a string to be returned in a friendly greeting\n",
    "    Modifies: Nothing!\n",
    "    Returns:  A string with a friendly greeting, including name\n",
    "    \"\"\"\n",
    "\n",
    "    return f'Hello, {name}!'"
   ]
  },
  {
   "cell_type": "code",
   "execution_count": 67,
   "metadata": {},
   "outputs": [
    {
     "name": "stdout",
     "output_type": "stream",
     "text": [
      "Help on function hello in module __main__:\n",
      "\n",
      "hello(name)\n",
      "    The best, friendliest function ever!\n",
      "\n",
      "    Expects:  One argument, a string to be returned in a friendly greeting\n",
      "    Modifies: Nothing!\n",
      "    Returns:  A string with a friendly greeting, including name\n",
      "\n"
     ]
    }
   ],
   "source": [
    "help(hello)"
   ]
  },
  {
   "cell_type": "markdown",
   "metadata": {},
   "source": [
    "# Exercise: Add a docstring to calc\n",
    "\n",
    "1. Add a docstring with expects/modifies/returns, and an initial line summarizing the function.\n",
    "2. Run the `help` function on your function in Jupyter, and see the docstring."
   ]
  },
  {
   "cell_type": "code",
   "execution_count": 68,
   "metadata": {},
   "outputs": [],
   "source": [
    "def calc(first, op, second):    \n",
    "    \"\"\"Perform a simple calculation on integers\n",
    "\n",
    "    Expects: - An integer argument (first)\n",
    "             - A string argument (op), containing either '+' or '*'\n",
    "             - A second integer argument (second)\n",
    "    Modifies: Nothing\n",
    "    Returns: A string containing not only the math equation, but also the solution.\n",
    "    \"\"\"\n",
    "    \n",
    "    if op == '+':\n",
    "        result = first + second\n",
    "    elif op == '*':\n",
    "        result = first * second\n",
    "    else:\n",
    "        result = '(no result)'\n",
    "\n",
    "    return f'{first} {op} {second} = {result}'    # return is not a function, so we don't need () -- but they don't hurt\n"
   ]
  },
  {
   "cell_type": "code",
   "execution_count": 69,
   "metadata": {},
   "outputs": [
    {
     "data": {
      "text/plain": [
       "'10 + 3 = 13'"
      ]
     },
     "execution_count": 69,
     "metadata": {},
     "output_type": "execute_result"
    }
   ],
   "source": [
    "calc(10, '+', 3)"
   ]
  },
  {
   "cell_type": "code",
   "execution_count": 70,
   "metadata": {},
   "outputs": [
    {
     "name": "stdout",
     "output_type": "stream",
     "text": [
      "Help on function calc in module __main__:\n",
      "\n",
      "calc(first, op, second)\n",
      "    Perform a simple calculation on integers\n",
      "\n",
      "    Expects: - An integer argument (first)\n",
      "             - A string argument (op), containing either '+' or '*'\n",
      "             - A second integer argument (second)\n",
      "    Modifies: Nothing\n",
      "    Returns: A string containing not only the math equation, but also the solution.\n",
      "\n"
     ]
    }
   ],
   "source": [
    "help(calc)"
   ]
  },
  {
   "cell_type": "markdown",
   "metadata": {},
   "source": [
    "# Next up\n",
    "\n",
    "- More about complex return values\n",
    "- Keyword arguments\n",
    "- Default argument values\n",
    "- Local vs. global variables\n",
    "- Special parameters, and how they fit into functions"
   ]
  },
  {
   "cell_type": "code",
   "execution_count": 72,
   "metadata": {},
   "outputs": [
    {
     "data": {
      "text/plain": [
       "('hello', {'len': 5, 'first': 'h', 'last': 'o'})"
      ]
     },
     "execution_count": 72,
     "metadata": {},
     "output_type": "execute_result"
    }
   ],
   "source": [
    "# a bit more about complex return values\n",
    "\n",
    "def text_analysis(text):\n",
    "    return text, {'len': len(text),\n",
    "                  'first': text[0],\n",
    "                  'last': text[-1]}\n",
    "\n",
    "text_analysis('hello')"
   ]
  },
  {
   "cell_type": "code",
   "execution_count": 73,
   "metadata": {},
   "outputs": [],
   "source": [
    "# I can grab that tuple in a variable!\n",
    "\n",
    "t = text_analysis('hello')"
   ]
  },
  {
   "cell_type": "code",
   "execution_count": 74,
   "metadata": {},
   "outputs": [
    {
     "data": {
      "text/plain": [
       "'hello'"
      ]
     },
     "execution_count": 74,
     "metadata": {},
     "output_type": "execute_result"
    }
   ],
   "source": [
    "t[0]"
   ]
  },
  {
   "cell_type": "code",
   "execution_count": 75,
   "metadata": {},
   "outputs": [
    {
     "data": {
      "text/plain": [
       "{'len': 5, 'first': 'h', 'last': 'o'}"
      ]
     },
     "execution_count": 75,
     "metadata": {},
     "output_type": "execute_result"
    }
   ],
   "source": [
    "t[1]"
   ]
  },
  {
   "cell_type": "code",
   "execution_count": 76,
   "metadata": {},
   "outputs": [],
   "source": [
    "# I can even break that apart using tuple unpacking!\n",
    "\n",
    "original_string, analysis = t"
   ]
  },
  {
   "cell_type": "code",
   "execution_count": 77,
   "metadata": {},
   "outputs": [
    {
     "data": {
      "text/plain": [
       "'hello'"
      ]
     },
     "execution_count": 77,
     "metadata": {},
     "output_type": "execute_result"
    }
   ],
   "source": [
    "original_string"
   ]
  },
  {
   "cell_type": "code",
   "execution_count": 78,
   "metadata": {},
   "outputs": [
    {
     "data": {
      "text/plain": [
       "{'len': 5, 'first': 'h', 'last': 'o'}"
      ]
     },
     "execution_count": 78,
     "metadata": {},
     "output_type": "execute_result"
    }
   ],
   "source": [
    "analysis"
   ]
  },
  {
   "cell_type": "code",
   "execution_count": 79,
   "metadata": {},
   "outputs": [],
   "source": [
    "# I can do that immediately with the result from the function!\n",
    "\n",
    "original_string, analysis = text_analysis('hello')"
   ]
  },
  {
   "cell_type": "code",
   "execution_count": 80,
   "metadata": {},
   "outputs": [],
   "source": [
    "# let's define a simple \"hello\" again\n",
    "\n",
    "def hello(name):\n",
    "    return f'Hello, {name}!'"
   ]
  },
  {
   "cell_type": "code",
   "execution_count": 81,
   "metadata": {},
   "outputs": [
    {
     "ename": "TypeError",
     "evalue": "hello() missing 1 required positional argument: 'name'",
     "output_type": "error",
     "traceback": [
      "\u001b[31m---------------------------------------------------------------------------\u001b[39m",
      "\u001b[31mTypeError\u001b[39m                                 Traceback (most recent call last)",
      "\u001b[36mCell\u001b[39m\u001b[36m \u001b[39m\u001b[32mIn[81]\u001b[39m\u001b[32m, line 1\u001b[39m\n\u001b[32m----> \u001b[39m\u001b[32m1\u001b[39m \u001b[43mhello\u001b[49m\u001b[43m(\u001b[49m\u001b[43m)\u001b[49m\n",
      "\u001b[31mTypeError\u001b[39m: hello() missing 1 required positional argument: 'name'"
     ]
    }
   ],
   "source": [
    "# parameters:  name\n",
    "# arguments:  \n",
    "\n",
    "hello()"
   ]
  },
  {
   "cell_type": "code",
   "execution_count": 82,
   "metadata": {},
   "outputs": [],
   "source": [
    "def hello(first, last, shoesize):\n",
    "    return f'Hello, {first} {last}, with a shoe size of {shoesize}!'"
   ]
  },
  {
   "cell_type": "code",
   "execution_count": 83,
   "metadata": {},
   "outputs": [
    {
     "ename": "TypeError",
     "evalue": "hello() missing 3 required positional arguments: 'first', 'last', and 'shoesize'",
     "output_type": "error",
     "traceback": [
      "\u001b[31m---------------------------------------------------------------------------\u001b[39m",
      "\u001b[31mTypeError\u001b[39m                                 Traceback (most recent call last)",
      "\u001b[36mCell\u001b[39m\u001b[36m \u001b[39m\u001b[32mIn[83]\u001b[39m\u001b[32m, line 1\u001b[39m\n\u001b[32m----> \u001b[39m\u001b[32m1\u001b[39m \u001b[43mhello\u001b[49m\u001b[43m(\u001b[49m\u001b[43m)\u001b[49m\n",
      "\u001b[31mTypeError\u001b[39m: hello() missing 3 required positional arguments: 'first', 'last', and 'shoesize'"
     ]
    }
   ],
   "source": [
    "hello()"
   ]
  },
  {
   "cell_type": "code",
   "execution_count": 84,
   "metadata": {},
   "outputs": [
    {
     "data": {
      "text/plain": [
       "'Hello, Reuven Lerner, with a shoe size of 46!'"
      ]
     },
     "execution_count": 84,
     "metadata": {},
     "output_type": "execute_result"
    }
   ],
   "source": [
    "# parameters:  first   last     shoesize\n",
    "# arguments:  'Reuven' 'Lerner' 46\n",
    "\n",
    "hello('Reuven', 'Lerner', 46)"
   ]
  },
  {
   "cell_type": "markdown",
   "metadata": {},
   "source": [
    "# Keyword arguments\n",
    "\n",
    "Python allows us to pass arguments in two different ways:\n",
    "\n",
    "- Positionally: The argument is assigned to the corresponding parameter in the function definition.\n",
    "- Keyword arguments: We can pass an argument with the format of `name=value`. In that case, the argument value is assigned to parameter we named, not necessarily to the parameter in order."
   ]
  },
  {
   "cell_type": "code",
   "execution_count": 86,
   "metadata": {},
   "outputs": [
    {
     "data": {
      "text/plain": [
       "'Hello, Reuven Lerner, with a shoe size of 46!'"
      ]
     },
     "execution_count": 86,
     "metadata": {},
     "output_type": "execute_result"
    }
   ],
   "source": [
    "# here is how I can pass all three arguments as keyword arguments\n",
    "\n",
    "# parameters:   first     last    shoesize\n",
    "# arguments    'Reuven'  'Lerner'   46\n",
    "\n",
    "hello(first='Reuven', last='Lerner', shoesize=46)"
   ]
  },
  {
   "cell_type": "markdown",
   "metadata": {},
   "source": [
    "One major advantage of keyword arguments is clarity: It's very obvious which argument is going to which parameter. This is especially great when you have a function with many parameters.\n",
    "\n"
   ]
  },
  {
   "cell_type": "code",
   "execution_count": 88,
   "metadata": {},
   "outputs": [
    {
     "data": {
      "text/plain": [
       "'Hello, Reuven Lerner, with a shoe size of 46!'"
      ]
     },
     "execution_count": 88,
     "metadata": {},
     "output_type": "execute_result"
    }
   ],
   "source": [
    "# parameters:   first     last    shoesize\n",
    "# arguments    'Reuven'  'Lerner'   46\n",
    "\n",
    "hello(last='Lerner', first='Reuven', shoesize=46)"
   ]
  },
  {
   "cell_type": "markdown",
   "metadata": {},
   "source": [
    "Can we invoke a function with a combination of positional and keyword arguments?\n",
    "\n",
    "Yes, so long as all of the positional arguments come before all of the keyword arguments."
   ]
  },
  {
   "cell_type": "code",
   "execution_count": 90,
   "metadata": {},
   "outputs": [
    {
     "data": {
      "text/plain": [
       "'Hello, Reuven Lerner, with a shoe size of 46!'"
      ]
     },
     "execution_count": 90,
     "metadata": {},
     "output_type": "execute_result"
    }
   ],
   "source": [
    "# parameters:   first    last   shoesize\n",
    "# argumentse:  'Reuven'  'Lerner'   46\n",
    "\n",
    "hello('Reuven',  shoesize=46, last='Lerner')"
   ]
  },
  {
   "cell_type": "code",
   "execution_count": 91,
   "metadata": {},
   "outputs": [
    {
     "ename": "SyntaxError",
     "evalue": "positional argument follows keyword argument (933402740.py, line 2)",
     "output_type": "error",
     "traceback": [
      "  \u001b[36mCell\u001b[39m\u001b[36m \u001b[39m\u001b[32mIn[91]\u001b[39m\u001b[32m, line 2\u001b[39m\n\u001b[31m    \u001b[39m\u001b[31mhello('Reuven',  shoesize=46, 'Lerner')\u001b[39m\n                                          ^\n\u001b[31mSyntaxError\u001b[39m\u001b[31m:\u001b[39m positional argument follows keyword argument\n"
     ]
    }
   ],
   "source": [
    "# will this work? (No!)\n",
    "hello('Reuven',  shoesize=46, 'Lerner')"
   ]
  },
  {
   "cell_type": "markdown",
   "metadata": {},
   "source": [
    "# Exercise: Count characters\n",
    "\n",
    "1. Define a function, `count_chars`, which takes two arguments:\n",
    "    - `text`, a string\n",
    "    - `chars`, another string\n",
    "2. The function will return the number of times one of the characters is `chars` appears in `text`.\n",
    "3. If we invoke the function with `chars='aeiou'`, then we'll be counting the vowels. If we invoke the function with `chars='0123456789'`, then we'll be counting the digits.\n",
    "4. Once the function works, invoke it with:\n",
    "    - Two positional arguments\n",
    "    - One positional and one keyword argument\n",
    "    - Two keyword arguments"
   ]
  },
  {
   "cell_type": "code",
   "execution_count": 94,
   "metadata": {},
   "outputs": [],
   "source": [
    "def count_chars(text, chars):\n",
    "    output = 0\n",
    "\n",
    "    for one_character in text:       # go through our text, one character at a time\n",
    "        if one_character in chars:   # is the current character in chars?\n",
    "            output += 1              # if so, increment our counter\n",
    "\n",
    "    return output"
   ]
  },
  {
   "cell_type": "code",
   "execution_count": 96,
   "metadata": {},
   "outputs": [
    {
     "data": {
      "text/plain": [
       "2"
      ]
     },
     "execution_count": 96,
     "metadata": {},
     "output_type": "execute_result"
    }
   ],
   "source": [
    "# two positional arguments\n",
    "\n",
    "count_chars('hello', 'aeiou')"
   ]
  },
  {
   "cell_type": "code",
   "execution_count": 97,
   "metadata": {},
   "outputs": [
    {
     "data": {
      "text/plain": [
       "2"
      ]
     },
     "execution_count": 97,
     "metadata": {},
     "output_type": "execute_result"
    }
   ],
   "source": [
    "# two keyword arguments\n",
    "\n",
    "count_chars(text='hello', chars='aeiou')"
   ]
  },
  {
   "cell_type": "code",
   "execution_count": 98,
   "metadata": {},
   "outputs": [
    {
     "data": {
      "text/plain": [
       "2"
      ]
     },
     "execution_count": 98,
     "metadata": {},
     "output_type": "execute_result"
    }
   ],
   "source": [
    "# one positional, one keyword\n",
    "\n",
    "count_chars('hello', chars='aeiou')"
   ]
  },
  {
   "cell_type": "code",
   "execution_count": 99,
   "metadata": {},
   "outputs": [
    {
     "ename": "SyntaxError",
     "evalue": "positional argument follows keyword argument (3678351512.py, line 3)",
     "output_type": "error",
     "traceback": [
      "  \u001b[36mCell\u001b[39m\u001b[36m \u001b[39m\u001b[32mIn[99]\u001b[39m\u001b[32m, line 3\u001b[39m\n\u001b[31m    \u001b[39m\u001b[31mcount_chars(text='hello', 'aeiou')\u001b[39m\n                                     ^\n\u001b[31mSyntaxError\u001b[39m\u001b[31m:\u001b[39m positional argument follows keyword argument\n"
     ]
    }
   ],
   "source": [
    "# one keyword, one positional -- will this work?\n",
    "\n",
    "count_chars(text='hello', 'aeiou')"
   ]
  },
  {
   "cell_type": "markdown",
   "metadata": {},
   "source": [
    "# Default argument values\n",
    "\n",
    "We've seen a handful of examples of functions and methods that seem to violate the rules that I've told you here. For example, I can invoke `str.split` with an argument (a string that is used as a delimiter) or without an argument (in which case the delimiter is set to be any whitespace characters, in any number and any combination).\n",
    "\n",
    "How can this be? If we can define a function only once, then either it takes an argument (and has a corresponding parameter) or if doesn't take an argument (and doesn't have a parameter).\n",
    "\n",
    "The answer to this paradox is that Python allows us to define parameters with default argument values.\n",
    "\n",
    "That is: If we don't get an argument from the user, then we have a value we'll use instead.\n",
    "\n",
    "We do this using syntax that's *very* similar to that used for keyword arguments, *but* it is in the function definition, not in the function invocation."
   ]
  },
  {
   "cell_type": "code",
   "execution_count": 100,
   "metadata": {},
   "outputs": [],
   "source": [
    "def hello(name):\n",
    "    return f'Hello, {name}!'"
   ]
  },
  {
   "cell_type": "code",
   "execution_count": 101,
   "metadata": {},
   "outputs": [
    {
     "data": {
      "text/plain": [
       "'Hello, world!'"
      ]
     },
     "execution_count": 101,
     "metadata": {},
     "output_type": "execute_result"
    }
   ],
   "source": [
    "hello('world')"
   ]
  },
  {
   "cell_type": "code",
   "execution_count": 102,
   "metadata": {},
   "outputs": [
    {
     "ename": "TypeError",
     "evalue": "hello() missing 1 required positional argument: 'name'",
     "output_type": "error",
     "traceback": [
      "\u001b[31m---------------------------------------------------------------------------\u001b[39m",
      "\u001b[31mTypeError\u001b[39m                                 Traceback (most recent call last)",
      "\u001b[36mCell\u001b[39m\u001b[36m \u001b[39m\u001b[32mIn[102]\u001b[39m\u001b[32m, line 1\u001b[39m\n\u001b[32m----> \u001b[39m\u001b[32m1\u001b[39m \u001b[43mhello\u001b[49m\u001b[43m(\u001b[49m\u001b[43m)\u001b[49m\n",
      "\u001b[31mTypeError\u001b[39m: hello() missing 1 required positional argument: 'name'"
     ]
    }
   ],
   "source": [
    "hello()"
   ]
  },
  {
   "cell_type": "code",
   "execution_count": 103,
   "metadata": {},
   "outputs": [],
   "source": [
    "# let's define our function with a default argument value\n",
    "# immediately after the parameter name, we add `=` and then the default value\n",
    "\n",
    "def hello( name='(no name)' ):\n",
    "    return f'Hello, {name}!'"
   ]
  },
  {
   "cell_type": "code",
   "execution_count": 104,
   "metadata": {},
   "outputs": [
    {
     "data": {
      "text/plain": [
       "'Hello, world!'"
      ]
     },
     "execution_count": 104,
     "metadata": {},
     "output_type": "execute_result"
    }
   ],
   "source": [
    "# parameters: name\n",
    "# arguments: 'world'\n",
    "\n",
    "hello('world')"
   ]
  },
  {
   "cell_type": "code",
   "execution_count": 105,
   "metadata": {},
   "outputs": [
    {
     "data": {
      "text/plain": [
       "'Hello, (no name)!'"
      ]
     },
     "execution_count": 105,
     "metadata": {},
     "output_type": "execute_result"
    }
   ],
   "source": [
    "# parameters: name\n",
    "# arguments: '(no name)', from the default argument that was defined\n",
    "\n",
    "hello()"
   ]
  },
  {
   "cell_type": "code",
   "execution_count": 106,
   "metadata": {},
   "outputs": [],
   "source": [
    "# two default argument values\n",
    "\n",
    "def hello(first='(no first name)', last='(no last name)'):\n",
    "    return f'Hello, {first} {last}!'"
   ]
  },
  {
   "cell_type": "code",
   "execution_count": 108,
   "metadata": {},
   "outputs": [
    {
     "data": {
      "text/plain": [
       "'Hello, a b!'"
      ]
     },
     "execution_count": 108,
     "metadata": {},
     "output_type": "execute_result"
    }
   ],
   "source": [
    "# parameters: first   last\n",
    "# arguments:   'a'    'b'\n",
    "\n",
    "hello('a', 'b')"
   ]
  },
  {
   "cell_type": "code",
   "execution_count": 109,
   "metadata": {},
   "outputs": [
    {
     "data": {
      "text/plain": [
       "'Hello, a (no last name)!'"
      ]
     },
     "execution_count": 109,
     "metadata": {},
     "output_type": "execute_result"
    }
   ],
   "source": [
    "# parameters:  first   last\n",
    "# arguments:    'a'    '(no last name)'\n",
    "\n",
    "hello('a')"
   ]
  },
  {
   "cell_type": "code",
   "execution_count": 110,
   "metadata": {},
   "outputs": [
    {
     "data": {
      "text/plain": [
       "'Hello, (no first name) Lerner!'"
      ]
     },
     "execution_count": 110,
     "metadata": {},
     "output_type": "execute_result"
    }
   ],
   "source": [
    "# how can I pass a value to last, but keep the default value for first?\n",
    "\n",
    "# I can pass a keyword argument for last, and pass nothing for first!\n",
    "\n",
    "hello(last='Lerner')   "
   ]
  },
  {
   "cell_type": "markdown",
   "metadata": {},
   "source": [
    "Demos of functions using default values and/or keyword arguments that might be a bit more practical"
   ]
  },
  {
   "cell_type": "code",
   "execution_count": 111,
   "metadata": {},
   "outputs": [
    {
     "data": {
      "text/plain": [
       "140"
      ]
     },
     "execution_count": 111,
     "metadata": {},
     "output_type": "execute_result"
    }
   ],
   "source": [
    "# function that gets the number of lines in a file\n",
    "\n",
    "def get_size(filename):\n",
    "    lines = 0\n",
    "\n",
    "    for one_line in open(filename):\n",
    "        lines += 1\n",
    "\n",
    "    return lines\n",
    "\n",
    "get_size('/etc/passwd')    "
   ]
  },
  {
   "cell_type": "code",
   "execution_count": 112,
   "metadata": {},
   "outputs": [
    {
     "data": {
      "text/plain": [
       "140"
      ]
     },
     "execution_count": 112,
     "metadata": {},
     "output_type": "execute_result"
    }
   ],
   "source": [
    "# what if I want to count a bunch of potential things?\n",
    "# - lines\n",
    "# - words\n",
    "# - characters\n",
    "\n",
    "\n",
    "def get_size(filename, count_lines=True, count_words=False, count_chars=False):\n",
    "    lines = 0\n",
    "\n",
    "    for one_line in open(filename):\n",
    "        if count_lines:\n",
    "            lines += 1\n",
    "        \n",
    "\n",
    "    return lines\n",
    "\n",
    "get_size('/etc/passwd')    "
   ]
  },
  {
   "cell_type": "code",
   "execution_count": null,
   "metadata": {},
   "outputs": [],
   "source": []
  }
 ],
 "metadata": {
  "kernelspec": {
   "display_name": "Python 3 (ipykernel)",
   "language": "python",
   "name": "python3"
  },
  "language_info": {
   "codemirror_mode": {
    "name": "ipython",
    "version": 3
   },
   "file_extension": ".py",
   "mimetype": "text/x-python",
   "name": "python",
   "nbconvert_exporter": "python",
   "pygments_lexer": "ipython3",
   "version": "3.13.5"
  },
  "widgets": {
   "application/vnd.jupyter.widget-state+json": {
    "state": {},
    "version_major": 2,
    "version_minor": 0
   }
  }
 },
 "nbformat": 4,
 "nbformat_minor": 4
}
